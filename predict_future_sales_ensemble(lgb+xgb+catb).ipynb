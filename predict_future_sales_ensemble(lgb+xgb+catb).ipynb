{
  "nbformat": 4,
  "nbformat_minor": 0,
  "metadata": {
    "colab": {
      "name": "predict_future_sales_ensemble(lgb+xgb+catb).ipynb",
      "provenance": [],
      "collapsed_sections": [],
      "machine_shape": "hm"
    },
    "kernelspec": {
      "name": "python3",
      "display_name": "Python 3"
    },
    "accelerator": "TPU"
  },
  "cells": [
    {
      "cell_type": "code",
      "metadata": {
        "id": "EoeRCaZmMPvW",
        "colab_type": "code",
        "colab": {}
      },
      "source": [
        "import numpy as np\n",
        "import seaborn as sns\n",
        "import pandas as pd\n",
        "import matplotlib.pyplot as plt\n",
        "import datetime\n",
        "import os\n",
        "import warnings\n",
        "import re\n",
        "\n",
        "from itertools import product\n",
        "from sklearn.linear_model import LinearRegression\n",
        "import lightgbm as lgb\n",
        "from sklearn.feature_extraction.text import TfidfVectorizer\n",
        "from sklearn.metrics import r2_score\n",
        "import gc \n",
        "%matplotlib inline \n",
        "pd.set_option('display.max_rows',600)\n",
        "pd.set_option('display.max_columns',50)\n",
        "warnings.simplefilter(action='ignore', category=FutureWarning)\n",
        "\n",
        "def downcast_dtypes(df):\n",
        "    '''\n",
        "        Changes column types in the dataframe: \n",
        "                \n",
        "                `float64` type to `float32`\n",
        "                `int64`   type to `int32`\n",
        "    '''\n",
        "    \n",
        "    # Select columns to downcast\n",
        "    int8_cols = [col for col in df.columns if col in ['shop_id','date_block_num','item_category_id'] ]\n",
        "    float_cols = [c for c in df if df[c].dtype == \"float64\"]\n",
        "    int_cols =   [c for c in df if df[c].dtype == \"int64\"] \n",
        "    int_cols = list(set(int_cols) - set(int8_cols))\n",
        "    # Downcast\n",
        "    df[float_cols] = df[float_cols].astype(np.float32)\n",
        "    df[int_cols]   = df[int_cols].astype(np.int16)\n",
        "    df[int8_cols] = df[int8_cols].astype(np.int8)\n",
        "    \n",
        "    return df\n",
        "\n",
        "os.environ['KAGGLE_USERNAME'] = \"svgkat\"\n",
        "os.environ['KAGGLE_KEY'] = \"85ffe6ac1c5ea0226c2f7a857e9dc63e\"\n",
        "\n",
        "!mkdir /content/predict_future_sales\n",
        "!cd /content/predict_future_sales/\n",
        "\n",
        "!kaggle competitions download -c competitive-data-science-predict-future-sales -p /content/predict_future_sales\n",
        "\n",
        "sales = pd.read_csv('/content/predict_future_sales/sales_train.csv.gz')\n",
        "shops = pd.read_csv('/content/predict_future_sales/shops.csv')\n",
        "items = pd.read_csv('/content/predict_future_sales/items.csv')\n",
        "item_cats = pd.read_csv('/content/predict_future_sales/item_categories.csv')\n",
        "test = pd.read_csv('/content/predict_future_sales/test.csv.gz')    \n",
        "\n",
        "sales = downcast_dtypes(sales)\n",
        "shops = downcast_dtypes(shops)\n",
        "items= downcast_dtypes(items)\n",
        "item_cats = downcast_dtypes(item_cats)\n",
        "test = downcast_dtypes(test)\n",
        "\n",
        "test.drop(columns='ID',inplace=True)\n",
        "test['date_block_num'] = sales.date_block_num.max() + 1\n"
      ],
      "execution_count": 0,
      "outputs": []
    },
    {
      "cell_type": "code",
      "metadata": {
        "id": "zCDbxm-eMZN_",
        "colab_type": "code",
        "outputId": "766d38c0-5900-4fe1-cd92-2b12c01588c6",
        "colab": {
          "base_uri": "https://localhost:8080/",
          "height": 34
        }
      },
      "source": [
        "index_cols = ['shop_id', 'item_id', 'date_block_num']\n",
        "\n",
        "# For every month we create a grid from all shops/items combinations from that month\n",
        "grid = [] \n",
        "for block_num in sales['date_block_num'].unique():\n",
        "    cur_shops = sales.loc[sales['date_block_num'] == block_num, 'shop_id'].unique()\n",
        "    cur_items = sales.loc[sales['date_block_num'] == block_num, 'item_id'].unique()\n",
        "    grid.append(np.array(list(product(*[cur_shops, cur_items, [block_num]])),dtype='int32'))\n",
        "\n",
        "# Turn the grid into a dataframe\n",
        "grid = pd.DataFrame(np.vstack(grid), columns = index_cols,dtype=np.int32)\n",
        "\n",
        "#Adding the test data to ensure that the test data is also part of the \n",
        "#feature engineering process\n",
        "grid = pd.concat([grid, test])\n",
        "\n",
        "# Groupby data to get shop-item-month aggregates\n",
        "gb = sales.groupby(index_cols,as_index=False).agg({'item_cnt_day':{'target':'sum'}})\n",
        "# Fix column names\n",
        "gb.columns = [col[0] if col[-1]=='' else col[-1] for col in gb.columns.values] \n",
        "# Join it to the grid\n",
        "all_data = pd.merge(grid, gb, how='left', on=index_cols).fillna(0)\n",
        "\n",
        "# Same as above but with shop-month aggregates\n",
        "gb = sales.groupby(['shop_id', 'date_block_num'],as_index=False).agg({'item_cnt_day':{'target_shop':'sum'}})\n",
        "gb.columns = [col[0] if col[-1]=='' else col[-1] for col in gb.columns.values]\n",
        "all_data = pd.merge(all_data, gb, how='left', on=['shop_id', 'date_block_num']).fillna(0)\n",
        "\n",
        "# Same as above but with item-month aggregates\n",
        "gb = sales.groupby(['item_id', 'date_block_num'],as_index=False).agg({'item_cnt_day':{'target_item':'sum'}})\n",
        "gb.columns = [col[0] if col[-1] == '' else col[-1] for col in gb.columns.values]\n",
        "all_data = pd.merge(all_data, gb, how='left', on=['item_id', 'date_block_num']).fillna(0)\n",
        "\n",
        "# Downcast dtypes from 64 to 32 bit to save memory\n",
        "all_data = downcast_dtypes(all_data)\n",
        "del grid, gb \n",
        "gc.collect()"
      ],
      "execution_count": 2,
      "outputs": [
        {
          "output_type": "execute_result",
          "data": {
            "text/plain": [
              "0"
            ]
          },
          "metadata": {
            "tags": []
          },
          "execution_count": 2
        }
      ]
    },
    {
      "cell_type": "code",
      "metadata": {
        "id": "U_Qu6NCxMn91",
        "colab_type": "code",
        "outputId": "1bb84d5c-2fd1-4cc9-c145-eda131e02cac",
        "colab": {
          "base_uri": "https://localhost:8080/",
          "height": 202
        }
      },
      "source": [
        "all_data.info()"
      ],
      "execution_count": 3,
      "outputs": [
        {
          "output_type": "stream",
          "text": [
            "<class 'pandas.core.frame.DataFrame'>\n",
            "Int64Index: 11128050 entries, 0 to 11128049\n",
            "Data columns (total 6 columns):\n",
            "shop_id           int8\n",
            "item_id           int32\n",
            "date_block_num    int8\n",
            "target            float32\n",
            "target_shop       float32\n",
            "target_item       float32\n",
            "dtypes: float32(3), int32(1), int8(2)\n",
            "memory usage: 275.9 MB\n"
          ],
          "name": "stdout"
        }
      ]
    },
    {
      "cell_type": "code",
      "metadata": {
        "id": "A_RoKLrNu8SZ",
        "colab_type": "code",
        "colab": {}
      },
      "source": [
        "all_data.target_item = all_data.target_item.astype(np.int16)\n",
        "all_data.target_shop = all_data.target_shop.astype(np.int16)\n",
        "all_data.target = all_data.target.astype(np.int16)"
      ],
      "execution_count": 0,
      "outputs": []
    },
    {
      "cell_type": "code",
      "metadata": {
        "id": "LJ0pjVYEvicz",
        "colab_type": "code",
        "colab": {}
      },
      "source": [
        "all_data.item_id = all_data.item_id.astype(np.int16)"
      ],
      "execution_count": 0,
      "outputs": []
    },
    {
      "cell_type": "code",
      "metadata": {
        "id": "Wp8mzA0eMuGD",
        "colab_type": "code",
        "outputId": "4770d2ee-6dc9-436d-e39c-dc6e1c22af38",
        "colab": {
          "base_uri": "https://localhost:8080/",
          "height": 34
        }
      },
      "source": [
        "sales_ret = sales[sales.item_cnt_day < 0]\n",
        "\n",
        "## return numbers for shop-month\n",
        "gb = sales_ret.groupby(by=['shop_id','date_block_num'],as_index=False).agg({'item_cnt_day':{'trg_ret_shop_per_mth':'sum'}})\n",
        "gb.columns = [col[0] if col[-1]=='' else col[-1] for col in gb.columns.values]\n",
        "all_data = pd.merge(all_data, gb, how='left', on=['shop_id', 'date_block_num']).fillna(0)\n",
        "\n",
        "del gb\n",
        "gc.collect()\n",
        "\n",
        "##return numbers for item-month\n",
        "\n",
        "gb = sales_ret.groupby(['item_id', 'date_block_num'],as_index=False).agg({'item_cnt_day':{'trg_ret_item_mth':'sum'}})\n",
        "gb.columns = [col[0] if col[-1] == '' else col[-1] for col in gb.columns.values]\n",
        "all_data = pd.merge(all_data, gb, how='left', on=['item_id', 'date_block_num']).fillna(0)\n",
        "\n",
        "del gb\n",
        "gc.collect()\n",
        "\n",
        "##return numbers for shop-item-month\n",
        "\n",
        "#gb = sales_ret.groupby(index_cols,as_index=False).agg({'item_cnt_day':{'trg_ret_shop_item_mth':'sum'}})\n",
        "#gb.columns = [col[0] if col[-1]=='' else col[-1] for col in gb.columns.values] \n",
        "#all_data = pd.merge(all_data, gb, how='left', on=index_cols).fillna(0)\n",
        "\n",
        "#del gb\n",
        "del sales_ret\n",
        "gc.collect()"
      ],
      "execution_count": 6,
      "outputs": [
        {
          "output_type": "execute_result",
          "data": {
            "text/plain": [
              "0"
            ]
          },
          "metadata": {
            "tags": []
          },
          "execution_count": 6
        }
      ]
    },
    {
      "cell_type": "code",
      "metadata": {
        "id": "6e6gAfZhwRyl",
        "colab_type": "code",
        "outputId": "3f537406-707f-49c4-f3fa-8f0a63b6611f",
        "colab": {
          "base_uri": "https://localhost:8080/",
          "height": 235
        }
      },
      "source": [
        "all_data.info()"
      ],
      "execution_count": 7,
      "outputs": [
        {
          "output_type": "stream",
          "text": [
            "<class 'pandas.core.frame.DataFrame'>\n",
            "Int64Index: 11128050 entries, 0 to 11128049\n",
            "Data columns (total 8 columns):\n",
            "shop_id                 int8\n",
            "item_id                 int16\n",
            "date_block_num          int8\n",
            "target                  int16\n",
            "target_shop             int16\n",
            "target_item             int16\n",
            "trg_ret_shop_per_mth    float32\n",
            "trg_ret_item_mth        float32\n",
            "dtypes: float32(2), int16(4), int8(2)\n",
            "memory usage: 275.9 MB\n"
          ],
          "name": "stdout"
        }
      ]
    },
    {
      "cell_type": "code",
      "metadata": {
        "id": "Il0JoqI_MzBZ",
        "colab_type": "code",
        "outputId": "88bf4597-a75d-4543-bcce-5e26c2f8c275",
        "colab": {
          "base_uri": "https://localhost:8080/",
          "height": 34
        }
      },
      "source": [
        "(all_data.trg_ret_shop_per_mth == all_data.trg_ret_shop_per_mth.astype(np.int8)).all()"
      ],
      "execution_count": 8,
      "outputs": [
        {
          "output_type": "execute_result",
          "data": {
            "text/plain": [
              "True"
            ]
          },
          "metadata": {
            "tags": []
          },
          "execution_count": 8
        }
      ]
    },
    {
      "cell_type": "code",
      "metadata": {
        "id": "1roxW4_Fx2Dm",
        "colab_type": "code",
        "outputId": "dd65b77f-1795-494a-d69b-f123cf4acf52",
        "colab": {
          "base_uri": "https://localhost:8080/",
          "height": 34
        }
      },
      "source": [
        "(all_data.trg_ret_item_mth == all_data.trg_ret_item_mth.astype(np.int8)).all()"
      ],
      "execution_count": 9,
      "outputs": [
        {
          "output_type": "execute_result",
          "data": {
            "text/plain": [
              "True"
            ]
          },
          "metadata": {
            "tags": []
          },
          "execution_count": 9
        }
      ]
    },
    {
      "cell_type": "code",
      "metadata": {
        "id": "O4d6iAvsyiHu",
        "colab_type": "code",
        "colab": {}
      },
      "source": [
        "all_data.trg_ret_item_mth = all_data.trg_ret_item_mth.astype(np.int8)\n",
        "all_data.trg_ret_shop_per_mth = all_data.trg_ret_shop_per_mth.astype(np.int8)"
      ],
      "execution_count": 0,
      "outputs": []
    },
    {
      "cell_type": "code",
      "metadata": {
        "id": "u0q3k6KCyo9K",
        "colab_type": "code",
        "outputId": "14e42786-b648-41d3-e7b3-30e4f5584504",
        "colab": {
          "base_uri": "https://localhost:8080/",
          "height": 235
        }
      },
      "source": [
        "all_data.info()"
      ],
      "execution_count": 11,
      "outputs": [
        {
          "output_type": "stream",
          "text": [
            "<class 'pandas.core.frame.DataFrame'>\n",
            "Int64Index: 11128050 entries, 0 to 11128049\n",
            "Data columns (total 8 columns):\n",
            "shop_id                 int8\n",
            "item_id                 int16\n",
            "date_block_num          int8\n",
            "target                  int16\n",
            "target_shop             int16\n",
            "target_item             int16\n",
            "trg_ret_shop_per_mth    int8\n",
            "trg_ret_item_mth        int8\n",
            "dtypes: int16(4), int8(4)\n",
            "memory usage: 212.3 MB\n"
          ],
          "name": "stdout"
        }
      ]
    },
    {
      "cell_type": "code",
      "metadata": {
        "id": "5TKIGN3GwyP_",
        "colab_type": "code",
        "outputId": "e750c503-ec8a-4409-983c-88eeae72456f",
        "colab": {
          "base_uri": "https://localhost:8080/",
          "height": 34
        }
      },
      "source": [
        "sales_distinct_items_dm = sales[['date_block_num','item_id']].drop_duplicates().groupby(by=['date_block_num']).agg({'item_id':{'distinct_items_in_month':'count'}})\n",
        "sales_distinct_items_dm.columns = [col[0] if col[-1]=='' else col[-1] for col in sales_distinct_items_dm.columns.values] \n",
        "sales_distinct_items_dm.distinct_items_in_month = sales_distinct_items_dm.distinct_items_in_month.astype(np.int16)\n",
        "all_data = pd.merge(all_data,sales_distinct_items_dm,how='left',on='date_block_num').fillna(0)\n",
        "del sales_distinct_items_dm\n",
        "gc.collect()"
      ],
      "execution_count": 12,
      "outputs": [
        {
          "output_type": "execute_result",
          "data": {
            "text/plain": [
              "0"
            ]
          },
          "metadata": {
            "tags": []
          },
          "execution_count": 12
        }
      ]
    },
    {
      "cell_type": "code",
      "metadata": {
        "id": "Bk8tEAjRxEq7",
        "colab_type": "code",
        "outputId": "834f6668-51d7-4613-8f30-78bca09516a9",
        "colab": {
          "base_uri": "https://localhost:8080/",
          "height": 252
        }
      },
      "source": [
        "all_data.info()"
      ],
      "execution_count": 13,
      "outputs": [
        {
          "output_type": "stream",
          "text": [
            "<class 'pandas.core.frame.DataFrame'>\n",
            "Int64Index: 11128050 entries, 0 to 11128049\n",
            "Data columns (total 9 columns):\n",
            "shop_id                    int8\n",
            "item_id                    int16\n",
            "date_block_num             int8\n",
            "target                     int16\n",
            "target_shop                int16\n",
            "target_item                int16\n",
            "trg_ret_shop_per_mth       int8\n",
            "trg_ret_item_mth           int8\n",
            "distinct_items_in_month    float64\n",
            "dtypes: float64(1), int16(4), int8(4)\n",
            "memory usage: 297.2 MB\n"
          ],
          "name": "stdout"
        }
      ]
    },
    {
      "cell_type": "code",
      "metadata": {
        "id": "_W1w55sYxliK",
        "colab_type": "code",
        "outputId": "d520217d-5d92-40c3-85ba-3deffe0e05f2",
        "colab": {
          "base_uri": "https://localhost:8080/",
          "height": 34
        }
      },
      "source": [
        "sales_distinct_items_dm = sales[['date_block_num','shop_id','item_id']].drop_duplicates().groupby(by=['date_block_num','shop_id']).agg({'item_id':{'ditems_in_month_shop':'count'}})\n",
        "sales_distinct_items_dm.columns = [col[0] if col[-1]=='' else col[-1] for col in sales_distinct_items_dm.columns.values] \n",
        "sales_distinct_items_dm.ditems_in_month_shop = sales_distinct_items_dm.ditems_in_month_shop.astype(np.int16)\n",
        "all_data = pd.merge(all_data,sales_distinct_items_dm,how='left',on=['date_block_num','shop_id']).fillna(0)\n",
        "del sales_distinct_items_dm\n",
        "gc.collect()"
      ],
      "execution_count": 14,
      "outputs": [
        {
          "output_type": "execute_result",
          "data": {
            "text/plain": [
              "0"
            ]
          },
          "metadata": {
            "tags": []
          },
          "execution_count": 14
        }
      ]
    },
    {
      "cell_type": "code",
      "metadata": {
        "id": "Mp1gSjr8x1Id",
        "colab_type": "code",
        "outputId": "6baf3de9-4ec1-47e6-b836-cfce0eaf24d6",
        "colab": {
          "base_uri": "https://localhost:8080/",
          "height": 34
        }
      },
      "source": [
        "(all_data.distinct_items_in_month == all_data.distinct_items_in_month.astype(np.int16)).all()"
      ],
      "execution_count": 15,
      "outputs": [
        {
          "output_type": "execute_result",
          "data": {
            "text/plain": [
              "True"
            ]
          },
          "metadata": {
            "tags": []
          },
          "execution_count": 15
        }
      ]
    },
    {
      "cell_type": "code",
      "metadata": {
        "id": "RSzhDBL9yI3b",
        "colab_type": "code",
        "outputId": "429a7052-3662-490f-b4df-1a566a2c9d76",
        "colab": {
          "base_uri": "https://localhost:8080/",
          "height": 34
        }
      },
      "source": [
        "(all_data.ditems_in_month_shop == all_data.ditems_in_month_shop.astype(np.int16)).all()"
      ],
      "execution_count": 16,
      "outputs": [
        {
          "output_type": "execute_result",
          "data": {
            "text/plain": [
              "True"
            ]
          },
          "metadata": {
            "tags": []
          },
          "execution_count": 16
        }
      ]
    },
    {
      "cell_type": "code",
      "metadata": {
        "id": "QAnaodBqyPMG",
        "colab_type": "code",
        "colab": {}
      },
      "source": [
        "all_data.ditems_in_month_shop = all_data.ditems_in_month_shop.astype(np.int16)\n",
        "all_data.distinct_items_in_month = all_data.distinct_items_in_month.astype(np.int16)"
      ],
      "execution_count": 0,
      "outputs": []
    },
    {
      "cell_type": "code",
      "metadata": {
        "id": "KvnSd2etyZ-q",
        "colab_type": "code",
        "outputId": "0770189f-792f-493b-f8bf-6575c6be22e9",
        "colab": {
          "base_uri": "https://localhost:8080/",
          "height": 269
        }
      },
      "source": [
        "all_data.info()"
      ],
      "execution_count": 18,
      "outputs": [
        {
          "output_type": "stream",
          "text": [
            "<class 'pandas.core.frame.DataFrame'>\n",
            "Int64Index: 11128050 entries, 0 to 11128049\n",
            "Data columns (total 10 columns):\n",
            "shop_id                    int8\n",
            "item_id                    int16\n",
            "date_block_num             int8\n",
            "target                     int16\n",
            "target_shop                int16\n",
            "target_item                int16\n",
            "trg_ret_shop_per_mth       int8\n",
            "trg_ret_item_mth           int8\n",
            "distinct_items_in_month    int16\n",
            "ditems_in_month_shop       int16\n",
            "dtypes: int16(6), int8(4)\n",
            "memory usage: 254.7 MB\n"
          ],
          "name": "stdout"
        }
      ]
    },
    {
      "cell_type": "code",
      "metadata": {
        "id": "oO6ayCz7Xc77",
        "colab_type": "code",
        "colab": {}
      },
      "source": [
        "trg_ret_cols = ['trg_ret_shop_per_mth','trg_ret_item_mth']\n",
        "cols_target_lags = list(set(list(all_data.columns)) - (set(index_cols)|set(trg_ret_cols)))"
      ],
      "execution_count": 0,
      "outputs": []
    },
    {
      "cell_type": "code",
      "metadata": {
        "id": "GJJWlSMEXn9f",
        "colab_type": "code",
        "outputId": "d1e2541b-971f-4dc5-d721-2b5aed741f9f",
        "colab": {
          "base_uri": "https://localhost:8080/",
          "height": 101
        }
      },
      "source": [
        "cols_target_lags"
      ],
      "execution_count": 20,
      "outputs": [
        {
          "output_type": "execute_result",
          "data": {
            "text/plain": [
              "['target_shop',\n",
              " 'distinct_items_in_month',\n",
              " 'target',\n",
              " 'ditems_in_month_shop',\n",
              " 'target_item']"
            ]
          },
          "metadata": {
            "tags": []
          },
          "execution_count": 20
        }
      ]
    },
    {
      "cell_type": "code",
      "metadata": {
        "id": "vpW4MCPFM3ye",
        "colab_type": "code",
        "outputId": "98ec817f-d2fc-4388-b285-83cfe572c2b6",
        "colab": {
          "base_uri": "https://localhost:8080/",
          "height": 134
        }
      },
      "source": [
        "shift_range = [1,2,3,6,9,12]\n",
        "for month_shift in shift_range:\n",
        "\tprint('Processing:',month_shift)\n",
        "\ttrain_shift = all_data[index_cols + cols_target_lags].copy()\n",
        "\ttrain_shift['date_block_num'] = train_shift['date_block_num'] + month_shift\n",
        "\tfoo = lambda x: '{}_lag_{}'.format(x, month_shift) if x in cols_target_lags else x\n",
        "\ttrain_shift = train_shift.rename(columns=foo)\n",
        "\tall_data = pd.merge(all_data, train_shift, on=index_cols, how='left').fillna(0)\n",
        "\n",
        "del train_shift\n",
        "gc.collect()"
      ],
      "execution_count": 21,
      "outputs": [
        {
          "output_type": "stream",
          "text": [
            "Processing: 1\n",
            "Processing: 2\n",
            "Processing: 3\n",
            "Processing: 6\n",
            "Processing: 9\n",
            "Processing: 12\n"
          ],
          "name": "stdout"
        },
        {
          "output_type": "execute_result",
          "data": {
            "text/plain": [
              "0"
            ]
          },
          "metadata": {
            "tags": []
          },
          "execution_count": 21
        }
      ]
    },
    {
      "cell_type": "code",
      "metadata": {
        "id": "Pc9Ptxo9YQjc",
        "colab_type": "code",
        "outputId": "d9c7d575-608e-4356-c097-4475e9672c78",
        "colab": {
          "base_uri": "https://localhost:8080/",
          "height": 34
        }
      },
      "source": [
        "(all_data.target_lag_1 == all_data.target_lag_1.astype(np.int16)).all()"
      ],
      "execution_count": 22,
      "outputs": [
        {
          "output_type": "execute_result",
          "data": {
            "text/plain": [
              "True"
            ]
          },
          "metadata": {
            "tags": []
          },
          "execution_count": 22
        }
      ]
    },
    {
      "cell_type": "code",
      "metadata": {
        "id": "pm-LHTFMzsbQ",
        "colab_type": "code",
        "colab": {}
      },
      "source": [
        "float_cols = [col for col in all_data if all_data[col].dtype == 'float64']"
      ],
      "execution_count": 0,
      "outputs": []
    },
    {
      "cell_type": "code",
      "metadata": {
        "id": "9Iv9AYZjzKTb",
        "colab_type": "code",
        "outputId": "7be2dfb5-5cd2-4c1a-9eeb-22f7b3062d11",
        "colab": {
          "base_uri": "https://localhost:8080/",
          "height": 521
        }
      },
      "source": [
        "float_cols"
      ],
      "execution_count": 24,
      "outputs": [
        {
          "output_type": "execute_result",
          "data": {
            "text/plain": [
              "['target_shop_lag_1',\n",
              " 'distinct_items_in_month_lag_1',\n",
              " 'target_lag_1',\n",
              " 'ditems_in_month_shop_lag_1',\n",
              " 'target_item_lag_1',\n",
              " 'target_shop_lag_2',\n",
              " 'distinct_items_in_month_lag_2',\n",
              " 'target_lag_2',\n",
              " 'ditems_in_month_shop_lag_2',\n",
              " 'target_item_lag_2',\n",
              " 'target_shop_lag_3',\n",
              " 'distinct_items_in_month_lag_3',\n",
              " 'target_lag_3',\n",
              " 'ditems_in_month_shop_lag_3',\n",
              " 'target_item_lag_3',\n",
              " 'target_shop_lag_6',\n",
              " 'distinct_items_in_month_lag_6',\n",
              " 'target_lag_6',\n",
              " 'ditems_in_month_shop_lag_6',\n",
              " 'target_item_lag_6',\n",
              " 'target_shop_lag_9',\n",
              " 'distinct_items_in_month_lag_9',\n",
              " 'target_lag_9',\n",
              " 'ditems_in_month_shop_lag_9',\n",
              " 'target_item_lag_9',\n",
              " 'target_shop_lag_12',\n",
              " 'distinct_items_in_month_lag_12',\n",
              " 'target_lag_12',\n",
              " 'ditems_in_month_shop_lag_12',\n",
              " 'target_item_lag_12']"
            ]
          },
          "metadata": {
            "tags": []
          },
          "execution_count": 24
        }
      ]
    },
    {
      "cell_type": "code",
      "metadata": {
        "id": "tDSzwUXbz-ki",
        "colab_type": "code",
        "colab": {}
      },
      "source": [
        "all_data[float_cols] = all_data[float_cols].astype(np.int16)"
      ],
      "execution_count": 0,
      "outputs": []
    },
    {
      "cell_type": "code",
      "metadata": {
        "id": "QDQk5y1Y0Fay",
        "colab_type": "code",
        "outputId": "7be99b9e-b4a6-4ad7-e488-c43803f1f87c",
        "colab": {
          "base_uri": "https://localhost:8080/",
          "height": 773
        }
      },
      "source": [
        "all_data.info()"
      ],
      "execution_count": 26,
      "outputs": [
        {
          "output_type": "stream",
          "text": [
            "<class 'pandas.core.frame.DataFrame'>\n",
            "Int64Index: 11128050 entries, 0 to 11128049\n",
            "Data columns (total 40 columns):\n",
            "shop_id                           int8\n",
            "item_id                           int16\n",
            "date_block_num                    int8\n",
            "target                            int16\n",
            "target_shop                       int16\n",
            "target_item                       int16\n",
            "trg_ret_shop_per_mth              int8\n",
            "trg_ret_item_mth                  int8\n",
            "distinct_items_in_month           int16\n",
            "ditems_in_month_shop              int16\n",
            "target_shop_lag_1                 int16\n",
            "distinct_items_in_month_lag_1     int16\n",
            "target_lag_1                      int16\n",
            "ditems_in_month_shop_lag_1        int16\n",
            "target_item_lag_1                 int16\n",
            "target_shop_lag_2                 int16\n",
            "distinct_items_in_month_lag_2     int16\n",
            "target_lag_2                      int16\n",
            "ditems_in_month_shop_lag_2        int16\n",
            "target_item_lag_2                 int16\n",
            "target_shop_lag_3                 int16\n",
            "distinct_items_in_month_lag_3     int16\n",
            "target_lag_3                      int16\n",
            "ditems_in_month_shop_lag_3        int16\n",
            "target_item_lag_3                 int16\n",
            "target_shop_lag_6                 int16\n",
            "distinct_items_in_month_lag_6     int16\n",
            "target_lag_6                      int16\n",
            "ditems_in_month_shop_lag_6        int16\n",
            "target_item_lag_6                 int16\n",
            "target_shop_lag_9                 int16\n",
            "distinct_items_in_month_lag_9     int16\n",
            "target_lag_9                      int16\n",
            "ditems_in_month_shop_lag_9        int16\n",
            "target_item_lag_9                 int16\n",
            "target_shop_lag_12                int16\n",
            "distinct_items_in_month_lag_12    int16\n",
            "target_lag_12                     int16\n",
            "ditems_in_month_shop_lag_12       int16\n",
            "target_item_lag_12                int16\n",
            "dtypes: int16(36), int8(4)\n",
            "memory usage: 891.5 MB\n"
          ],
          "name": "stdout"
        }
      ]
    },
    {
      "cell_type": "code",
      "metadata": {
        "id": "5q13_MmHbP82",
        "colab_type": "code",
        "outputId": "293d8d01-dea9-44bc-f256-ee71e0cbb94e",
        "colab": {
          "base_uri": "https://localhost:8080/",
          "height": 84
        }
      },
      "source": [
        "#create lags for the return feature\n",
        "shift_trg_range = [1,2,3]\n",
        "for month_shift in shift_trg_range:\n",
        "  print('Processing:',month_shift)\n",
        "  train_shift = all_data[index_cols + trg_ret_cols].copy()\n",
        "  train_shift['date_block_num'] = train_shift['date_block_num'] + month_shift\n",
        "  foo = lambda x: '{}_lag_{}'.format(x, month_shift) if x in trg_ret_cols else x\n",
        "  train_shift = train_shift.rename(columns=foo)\n",
        "  all_data = pd.merge(all_data, train_shift, on=index_cols, how='left').fillna(0)\n",
        "\n",
        "del train_shift\n",
        "gc.collect()"
      ],
      "execution_count": 27,
      "outputs": [
        {
          "output_type": "stream",
          "text": [
            "Processing: 1\n",
            "Processing: 2\n",
            "Processing: 3\n"
          ],
          "name": "stdout"
        },
        {
          "output_type": "execute_result",
          "data": {
            "text/plain": [
              "22"
            ]
          },
          "metadata": {
            "tags": []
          },
          "execution_count": 27
        }
      ]
    },
    {
      "cell_type": "code",
      "metadata": {
        "id": "jEpbDz0mznKw",
        "colab_type": "code",
        "outputId": "bc1c4461-a8ba-4e7f-ad6c-618c5a2bef24",
        "colab": {
          "base_uri": "https://localhost:8080/",
          "height": 34
        }
      },
      "source": [
        "(all_data.trg_ret_shop_per_mth_lag_3 == all_data.trg_ret_shop_per_mth_lag_3.astype(np.int8)).all()"
      ],
      "execution_count": 28,
      "outputs": [
        {
          "output_type": "execute_result",
          "data": {
            "text/plain": [
              "True"
            ]
          },
          "metadata": {
            "tags": []
          },
          "execution_count": 28
        }
      ]
    },
    {
      "cell_type": "code",
      "metadata": {
        "id": "XQ5A0eHfz5FK",
        "colab_type": "code",
        "outputId": "8a4be186-0e55-434f-cb31-7053136c37b3",
        "colab": {
          "base_uri": "https://localhost:8080/",
          "height": 34
        }
      },
      "source": [
        "(all_data.trg_ret_item_mth_lag_3 == all_data.trg_ret_item_mth_lag_3.astype(np.int8)).all()"
      ],
      "execution_count": 29,
      "outputs": [
        {
          "output_type": "execute_result",
          "data": {
            "text/plain": [
              "True"
            ]
          },
          "metadata": {
            "tags": []
          },
          "execution_count": 29
        }
      ]
    },
    {
      "cell_type": "code",
      "metadata": {
        "id": "yL3zPqyd0W4j",
        "colab_type": "code",
        "colab": {}
      },
      "source": [
        "all_data.trg_ret_shop_per_mth_lag_1 = all_data.trg_ret_shop_per_mth_lag_1.astype(np.int8)\n",
        "all_data.trg_ret_item_mth_lag_1 = all_data.trg_ret_item_mth_lag_1.astype(np.int8)\n",
        "all_data.trg_ret_shop_per_mth_lag_2 = all_data.trg_ret_shop_per_mth_lag_2.astype(np.int8)\n",
        "all_data.trg_ret_item_mth_lag_2 = all_data.trg_ret_item_mth_lag_2.astype(np.int8)\n",
        "all_data.trg_ret_shop_per_mth_lag_3 = all_data.trg_ret_shop_per_mth_lag_3.astype(np.int8)\n",
        "all_data.trg_ret_item_mth_lag_3 = all_data.trg_ret_item_mth_lag_3.astype(np.int8)"
      ],
      "execution_count": 0,
      "outputs": []
    },
    {
      "cell_type": "code",
      "metadata": {
        "id": "9l6xUTPUzfK4",
        "colab_type": "code",
        "outputId": "49eba674-0902-47a0-d69f-a665bc629023",
        "colab": {
          "base_uri": "https://localhost:8080/",
          "height": 874
        }
      },
      "source": [
        "all_data.info()"
      ],
      "execution_count": 31,
      "outputs": [
        {
          "output_type": "stream",
          "text": [
            "<class 'pandas.core.frame.DataFrame'>\n",
            "Int64Index: 11128050 entries, 0 to 11128049\n",
            "Data columns (total 46 columns):\n",
            "shop_id                           int8\n",
            "item_id                           int16\n",
            "date_block_num                    int8\n",
            "target                            int16\n",
            "target_shop                       int16\n",
            "target_item                       int16\n",
            "trg_ret_shop_per_mth              int8\n",
            "trg_ret_item_mth                  int8\n",
            "distinct_items_in_month           int16\n",
            "ditems_in_month_shop              int16\n",
            "target_shop_lag_1                 int16\n",
            "distinct_items_in_month_lag_1     int16\n",
            "target_lag_1                      int16\n",
            "ditems_in_month_shop_lag_1        int16\n",
            "target_item_lag_1                 int16\n",
            "target_shop_lag_2                 int16\n",
            "distinct_items_in_month_lag_2     int16\n",
            "target_lag_2                      int16\n",
            "ditems_in_month_shop_lag_2        int16\n",
            "target_item_lag_2                 int16\n",
            "target_shop_lag_3                 int16\n",
            "distinct_items_in_month_lag_3     int16\n",
            "target_lag_3                      int16\n",
            "ditems_in_month_shop_lag_3        int16\n",
            "target_item_lag_3                 int16\n",
            "target_shop_lag_6                 int16\n",
            "distinct_items_in_month_lag_6     int16\n",
            "target_lag_6                      int16\n",
            "ditems_in_month_shop_lag_6        int16\n",
            "target_item_lag_6                 int16\n",
            "target_shop_lag_9                 int16\n",
            "distinct_items_in_month_lag_9     int16\n",
            "target_lag_9                      int16\n",
            "ditems_in_month_shop_lag_9        int16\n",
            "target_item_lag_9                 int16\n",
            "target_shop_lag_12                int16\n",
            "distinct_items_in_month_lag_12    int16\n",
            "target_lag_12                     int16\n",
            "ditems_in_month_shop_lag_12       int16\n",
            "target_item_lag_12                int16\n",
            "trg_ret_shop_per_mth_lag_1        int8\n",
            "trg_ret_item_mth_lag_1            int8\n",
            "trg_ret_shop_per_mth_lag_2        int8\n",
            "trg_ret_item_mth_lag_2            int8\n",
            "trg_ret_shop_per_mth_lag_3        int8\n",
            "trg_ret_item_mth_lag_3            int8\n",
            "dtypes: int16(36), int8(10)\n",
            "memory usage: 955.1 MB\n"
          ],
          "name": "stdout"
        }
      ]
    },
    {
      "cell_type": "code",
      "metadata": {
        "id": "9XtUDWAsbbPa",
        "colab_type": "code",
        "colab": {}
      },
      "source": [
        "all_data = all_data[all_data['date_block_num'] >= 12] "
      ],
      "execution_count": 0,
      "outputs": []
    },
    {
      "cell_type": "code",
      "metadata": {
        "id": "JkfpwmYa0SkV",
        "colab_type": "code",
        "outputId": "b4f128f9-56ec-44fe-9e67-4f7a4ce19ac2",
        "colab": {
          "base_uri": "https://localhost:8080/",
          "height": 874
        }
      },
      "source": [
        "all_data.info()"
      ],
      "execution_count": 33,
      "outputs": [
        {
          "output_type": "stream",
          "text": [
            "<class 'pandas.core.frame.DataFrame'>\n",
            "Int64Index: 6639294 entries, 4488756 to 11128049\n",
            "Data columns (total 46 columns):\n",
            "shop_id                           int8\n",
            "item_id                           int16\n",
            "date_block_num                    int8\n",
            "target                            int16\n",
            "target_shop                       int16\n",
            "target_item                       int16\n",
            "trg_ret_shop_per_mth              int8\n",
            "trg_ret_item_mth                  int8\n",
            "distinct_items_in_month           int16\n",
            "ditems_in_month_shop              int16\n",
            "target_shop_lag_1                 int16\n",
            "distinct_items_in_month_lag_1     int16\n",
            "target_lag_1                      int16\n",
            "ditems_in_month_shop_lag_1        int16\n",
            "target_item_lag_1                 int16\n",
            "target_shop_lag_2                 int16\n",
            "distinct_items_in_month_lag_2     int16\n",
            "target_lag_2                      int16\n",
            "ditems_in_month_shop_lag_2        int16\n",
            "target_item_lag_2                 int16\n",
            "target_shop_lag_3                 int16\n",
            "distinct_items_in_month_lag_3     int16\n",
            "target_lag_3                      int16\n",
            "ditems_in_month_shop_lag_3        int16\n",
            "target_item_lag_3                 int16\n",
            "target_shop_lag_6                 int16\n",
            "distinct_items_in_month_lag_6     int16\n",
            "target_lag_6                      int16\n",
            "ditems_in_month_shop_lag_6        int16\n",
            "target_item_lag_6                 int16\n",
            "target_shop_lag_9                 int16\n",
            "distinct_items_in_month_lag_9     int16\n",
            "target_lag_9                      int16\n",
            "ditems_in_month_shop_lag_9        int16\n",
            "target_item_lag_9                 int16\n",
            "target_shop_lag_12                int16\n",
            "distinct_items_in_month_lag_12    int16\n",
            "target_lag_12                     int16\n",
            "ditems_in_month_shop_lag_12       int16\n",
            "target_item_lag_12                int16\n",
            "trg_ret_shop_per_mth_lag_1        int8\n",
            "trg_ret_item_mth_lag_1            int8\n",
            "trg_ret_shop_per_mth_lag_2        int8\n",
            "trg_ret_item_mth_lag_2            int8\n",
            "trg_ret_shop_per_mth_lag_3        int8\n",
            "trg_ret_item_mth_lag_3            int8\n",
            "dtypes: int16(36), int8(10)\n",
            "memory usage: 569.9 MB\n"
          ],
          "name": "stdout"
        }
      ]
    },
    {
      "cell_type": "code",
      "metadata": {
        "id": "J7lGXRU4eSxt",
        "colab_type": "code",
        "outputId": "b66aefc1-12b5-40b1-9960-d7e6ec842f83",
        "colab": {
          "base_uri": "https://localhost:8080/",
          "height": 134
        }
      },
      "source": [
        "item_cats.info()"
      ],
      "execution_count": 34,
      "outputs": [
        {
          "output_type": "stream",
          "text": [
            "<class 'pandas.core.frame.DataFrame'>\n",
            "RangeIndex: 84 entries, 0 to 83\n",
            "Data columns (total 2 columns):\n",
            "item_category_name    84 non-null object\n",
            "item_category_id      84 non-null int8\n",
            "dtypes: int8(1), object(1)\n",
            "memory usage: 884.0+ bytes\n"
          ],
          "name": "stdout"
        }
      ]
    },
    {
      "cell_type": "code",
      "metadata": {
        "id": "I1ksJVYXeM8c",
        "colab_type": "code",
        "outputId": "e9942f20-33cf-4e4b-ffa4-064cf6dfd56c",
        "colab": {
          "base_uri": "https://localhost:8080/",
          "height": 67
        }
      },
      "source": [
        "vectorizer_item_cat = TfidfVectorizer(min_df=3,max_features=10)\n",
        "X = vectorizer_item_cat.fit_transform(item_cats.item_category_name)\n",
        "print('Count of features:',len(vectorizer_item_cat.get_feature_names()))\n",
        "print(vectorizer_item_cat.get_feature_names())\n",
        "df_item_cat_feat = pd.DataFrame(X.toarray())\n",
        "for ind in range(len(vectorizer_item_cat.get_feature_names())):\n",
        "  item_cats['tfidf_feat_itemcat_'+str(ind)] = df_item_cat_feat[ind]\n",
        "del vectorizer_item_cat,X\n",
        "\n",
        "item_item_cats = pd.merge(items.drop(columns=['item_name']),item_cats.drop(columns=['item_category_name']),how='left',on='item_category_id')\n",
        "item_item_cats = downcast_dtypes(item_item_cats)\n",
        "del df_item_cat_feat\n",
        "gc.collect()\n",
        "\n",
        "all_data = pd.merge(all_data,item_item_cats,how='left',on='item_id')\n",
        "all_data = downcast_dtypes(all_data)\n",
        "del item_item_cats\n",
        "gc.collect()"
      ],
      "execution_count": 35,
      "outputs": [
        {
          "output_type": "stream",
          "text": [
            "Count of features: 10\n",
            "['xbox', 'аксессуары', 'игровые', 'игры', 'кино', 'книги', 'консоли', 'музыка', 'подарки', 'цифра']\n"
          ],
          "name": "stdout"
        },
        {
          "output_type": "execute_result",
          "data": {
            "text/plain": [
              "0"
            ]
          },
          "metadata": {
            "tags": []
          },
          "execution_count": 35
        }
      ]
    },
    {
      "cell_type": "code",
      "metadata": {
        "id": "5rlCQoJbNTME",
        "colab_type": "code",
        "outputId": "dd20ffd3-43de-472d-d838-bcd5ff21c7cd",
        "colab": {
          "base_uri": "https://localhost:8080/",
          "height": 1000
        }
      },
      "source": [
        "all_data.info()"
      ],
      "execution_count": 36,
      "outputs": [
        {
          "output_type": "stream",
          "text": [
            "<class 'pandas.core.frame.DataFrame'>\n",
            "Int64Index: 6639294 entries, 0 to 6639293\n",
            "Data columns (total 57 columns):\n",
            "shop_id                           int8\n",
            "item_id                           int16\n",
            "date_block_num                    int8\n",
            "target                            int16\n",
            "target_shop                       int16\n",
            "target_item                       int16\n",
            "trg_ret_shop_per_mth              int8\n",
            "trg_ret_item_mth                  int8\n",
            "distinct_items_in_month           int16\n",
            "ditems_in_month_shop              int16\n",
            "target_shop_lag_1                 int16\n",
            "distinct_items_in_month_lag_1     int16\n",
            "target_lag_1                      int16\n",
            "ditems_in_month_shop_lag_1        int16\n",
            "target_item_lag_1                 int16\n",
            "target_shop_lag_2                 int16\n",
            "distinct_items_in_month_lag_2     int16\n",
            "target_lag_2                      int16\n",
            "ditems_in_month_shop_lag_2        int16\n",
            "target_item_lag_2                 int16\n",
            "target_shop_lag_3                 int16\n",
            "distinct_items_in_month_lag_3     int16\n",
            "target_lag_3                      int16\n",
            "ditems_in_month_shop_lag_3        int16\n",
            "target_item_lag_3                 int16\n",
            "target_shop_lag_6                 int16\n",
            "distinct_items_in_month_lag_6     int16\n",
            "target_lag_6                      int16\n",
            "ditems_in_month_shop_lag_6        int16\n",
            "target_item_lag_6                 int16\n",
            "target_shop_lag_9                 int16\n",
            "distinct_items_in_month_lag_9     int16\n",
            "target_lag_9                      int16\n",
            "ditems_in_month_shop_lag_9        int16\n",
            "target_item_lag_9                 int16\n",
            "target_shop_lag_12                int16\n",
            "distinct_items_in_month_lag_12    int16\n",
            "target_lag_12                     int16\n",
            "ditems_in_month_shop_lag_12       int16\n",
            "target_item_lag_12                int16\n",
            "trg_ret_shop_per_mth_lag_1        int8\n",
            "trg_ret_item_mth_lag_1            int8\n",
            "trg_ret_shop_per_mth_lag_2        int8\n",
            "trg_ret_item_mth_lag_2            int8\n",
            "trg_ret_shop_per_mth_lag_3        int8\n",
            "trg_ret_item_mth_lag_3            int8\n",
            "item_category_id                  int8\n",
            "tfidf_feat_itemcat_0              float32\n",
            "tfidf_feat_itemcat_1              float32\n",
            "tfidf_feat_itemcat_2              float32\n",
            "tfidf_feat_itemcat_3              float32\n",
            "tfidf_feat_itemcat_4              float32\n",
            "tfidf_feat_itemcat_5              float32\n",
            "tfidf_feat_itemcat_6              float32\n",
            "tfidf_feat_itemcat_7              float32\n",
            "tfidf_feat_itemcat_8              float32\n",
            "tfidf_feat_itemcat_9              float32\n",
            "dtypes: float32(10), int16(36), int8(11)\n",
            "memory usage: 829.5 MB\n"
          ],
          "name": "stdout"
        }
      ]
    },
    {
      "cell_type": "code",
      "metadata": {
        "id": "EJ5Wbj4WNa9u",
        "colab_type": "code",
        "outputId": "5e3a8ba9-9521-44c8-9d20-1497796e4580",
        "colab": {
          "base_uri": "https://localhost:8080/",
          "height": 67
        }
      },
      "source": [
        "vectorizer = TfidfVectorizer(min_df=2,max_features=10)\n",
        "X = vectorizer.fit_transform(shops.shop_name)\n",
        "print('Count of features:',len(vectorizer.get_feature_names()))\n",
        "print(vectorizer.get_feature_names())\n",
        "\n",
        "df_shop_features = pd.DataFrame(X.toarray())\n",
        "for ind in range(len(vectorizer.get_feature_names())):\n",
        "  shops['tfidf_feat_shop_'+str(ind)] = df_shop_features[ind]\n",
        "\n",
        "## Merge the shop features to all_data\n",
        "all_data = pd.merge(all_data,shops.drop(columns=['shop_name']),how='left',on='shop_id')\n",
        "all_data = downcast_dtypes(all_data)\n",
        "del vectorizer,df_shop_features, X\n",
        "gc.collect()"
      ],
      "execution_count": 37,
      "outputs": [
        {
          "output_type": "stream",
          "text": [
            "Count of features: 10\n",
            "['воронеж', 'мега', 'молл', 'москва', 'тк', 'трк', 'трц', 'тц', 'тюмень', 'якутск']\n"
          ],
          "name": "stdout"
        },
        {
          "output_type": "execute_result",
          "data": {
            "text/plain": [
              "24"
            ]
          },
          "metadata": {
            "tags": []
          },
          "execution_count": 37
        }
      ]
    },
    {
      "cell_type": "code",
      "metadata": {
        "id": "EMS0gvk0MMAZ",
        "colab_type": "code",
        "colab": {}
      },
      "source": [
        "import re"
      ],
      "execution_count": 0,
      "outputs": []
    },
    {
      "cell_type": "code",
      "metadata": {
        "id": "5PExLOFmMO0e",
        "colab_type": "code",
        "colab": {}
      },
      "source": [
        "def identify_train_feat(feat_name):\n",
        "  mt = re.search('[\\d]+$',feat_name)\n",
        "  if mt:\n",
        "    return True\n",
        "  else:\n",
        "    return False"
      ],
      "execution_count": 0,
      "outputs": []
    },
    {
      "cell_type": "code",
      "metadata": {
        "id": "4YFxIPlGXu9-",
        "colab_type": "code",
        "colab": {}
      },
      "source": [
        "all_data['month'] = (all_data.date_block_num%12)+1"
      ],
      "execution_count": 0,
      "outputs": []
    },
    {
      "cell_type": "code",
      "metadata": {
        "id": "iGlkATOZpIlV",
        "colab_type": "code",
        "outputId": "7fdf260c-c480-422d-d42a-0b52730f11e9",
        "colab": {
          "base_uri": "https://localhost:8080/",
          "height": 1000
        }
      },
      "source": [
        "all_data.info()"
      ],
      "execution_count": 41,
      "outputs": [
        {
          "output_type": "stream",
          "text": [
            "<class 'pandas.core.frame.DataFrame'>\n",
            "Int64Index: 6639294 entries, 0 to 6639293\n",
            "Data columns (total 68 columns):\n",
            "shop_id                           int8\n",
            "item_id                           int16\n",
            "date_block_num                    int8\n",
            "target                            int16\n",
            "target_shop                       int16\n",
            "target_item                       int16\n",
            "trg_ret_shop_per_mth              int8\n",
            "trg_ret_item_mth                  int8\n",
            "distinct_items_in_month           int16\n",
            "ditems_in_month_shop              int16\n",
            "target_shop_lag_1                 int16\n",
            "distinct_items_in_month_lag_1     int16\n",
            "target_lag_1                      int16\n",
            "ditems_in_month_shop_lag_1        int16\n",
            "target_item_lag_1                 int16\n",
            "target_shop_lag_2                 int16\n",
            "distinct_items_in_month_lag_2     int16\n",
            "target_lag_2                      int16\n",
            "ditems_in_month_shop_lag_2        int16\n",
            "target_item_lag_2                 int16\n",
            "target_shop_lag_3                 int16\n",
            "distinct_items_in_month_lag_3     int16\n",
            "target_lag_3                      int16\n",
            "ditems_in_month_shop_lag_3        int16\n",
            "target_item_lag_3                 int16\n",
            "target_shop_lag_6                 int16\n",
            "distinct_items_in_month_lag_6     int16\n",
            "target_lag_6                      int16\n",
            "ditems_in_month_shop_lag_6        int16\n",
            "target_item_lag_6                 int16\n",
            "target_shop_lag_9                 int16\n",
            "distinct_items_in_month_lag_9     int16\n",
            "target_lag_9                      int16\n",
            "ditems_in_month_shop_lag_9        int16\n",
            "target_item_lag_9                 int16\n",
            "target_shop_lag_12                int16\n",
            "distinct_items_in_month_lag_12    int16\n",
            "target_lag_12                     int16\n",
            "ditems_in_month_shop_lag_12       int16\n",
            "target_item_lag_12                int16\n",
            "trg_ret_shop_per_mth_lag_1        int8\n",
            "trg_ret_item_mth_lag_1            int8\n",
            "trg_ret_shop_per_mth_lag_2        int8\n",
            "trg_ret_item_mth_lag_2            int8\n",
            "trg_ret_shop_per_mth_lag_3        int8\n",
            "trg_ret_item_mth_lag_3            int8\n",
            "item_category_id                  int8\n",
            "tfidf_feat_itemcat_0              float32\n",
            "tfidf_feat_itemcat_1              float32\n",
            "tfidf_feat_itemcat_2              float32\n",
            "tfidf_feat_itemcat_3              float32\n",
            "tfidf_feat_itemcat_4              float32\n",
            "tfidf_feat_itemcat_5              float32\n",
            "tfidf_feat_itemcat_6              float32\n",
            "tfidf_feat_itemcat_7              float32\n",
            "tfidf_feat_itemcat_8              float32\n",
            "tfidf_feat_itemcat_9              float32\n",
            "tfidf_feat_shop_0                 float32\n",
            "tfidf_feat_shop_1                 float32\n",
            "tfidf_feat_shop_2                 float32\n",
            "tfidf_feat_shop_3                 float32\n",
            "tfidf_feat_shop_4                 float32\n",
            "tfidf_feat_shop_5                 float32\n",
            "tfidf_feat_shop_6                 float32\n",
            "tfidf_feat_shop_7                 float32\n",
            "tfidf_feat_shop_8                 float32\n",
            "tfidf_feat_shop_9                 float32\n",
            "month                             int8\n",
            "dtypes: float32(20), int16(36), int8(12)\n",
            "memory usage: 1.1 GB\n"
          ],
          "name": "stdout"
        }
      ]
    },
    {
      "cell_type": "code",
      "metadata": {
        "id": "ITuXK-NpLCtI",
        "colab_type": "code",
        "colab": {}
      },
      "source": [
        "##test_feat_cols = ['shop_item_in_test_only','shop_item_in_train_and_test','shop_item_in_train_only']\n",
        "test_feat_cols = []\n",
        "##new_feat_cols = ['distinct_items_in_month','ditems_in_month_shop','month']\n",
        "new_feat_cols = ['month']\n",
        "fit_cols = [col for col in all_data.columns if identify_train_feat(col)]\n",
        "fit_cols = list(set(fit_cols)|set(new_feat_cols))\n",
        "# We will drop these at fitting stage\n",
        "to_drop_cols = list(set(list(all_data.columns)) - (set(fit_cols)|set(index_cols)|set(test_feat_cols))) + ['date_block_num'] "
      ],
      "execution_count": 0,
      "outputs": []
    },
    {
      "cell_type": "code",
      "metadata": {
        "id": "elyh3vft2BwF",
        "colab_type": "code",
        "outputId": "747db989-f3c6-4002-f33f-4a35a78ac6d5",
        "colab": {
          "base_uri": "https://localhost:8080/",
          "height": 168
        }
      },
      "source": [
        "to_drop_cols"
      ],
      "execution_count": 43,
      "outputs": [
        {
          "output_type": "execute_result",
          "data": {
            "text/plain": [
              "['target_shop',\n",
              " 'distinct_items_in_month',\n",
              " 'target',\n",
              " 'trg_ret_shop_per_mth',\n",
              " 'trg_ret_item_mth',\n",
              " 'item_category_id',\n",
              " 'ditems_in_month_shop',\n",
              " 'target_item',\n",
              " 'date_block_num']"
            ]
          },
          "metadata": {
            "tags": []
          },
          "execution_count": 43
        }
      ]
    },
    {
      "cell_type": "code",
      "metadata": {
        "id": "uD2oOSpWrFtq",
        "colab_type": "code",
        "outputId": "3f3eee88-b509-46be-c5fd-909d4efca1c9",
        "colab": {
          "base_uri": "https://localhost:8080/",
          "height": 974
        }
      },
      "source": [
        "fit_cols"
      ],
      "execution_count": 44,
      "outputs": [
        {
          "output_type": "execute_result",
          "data": {
            "text/plain": [
              "['ditems_in_month_shop_lag_9',\n",
              " 'target_item_lag_12',\n",
              " 'ditems_in_month_shop_lag_12',\n",
              " 'target_shop_lag_6',\n",
              " 'trg_ret_shop_per_mth_lag_2',\n",
              " 'tfidf_feat_itemcat_0',\n",
              " 'target_lag_3',\n",
              " 'target_shop_lag_9',\n",
              " 'target_item_lag_9',\n",
              " 'tfidf_feat_shop_4',\n",
              " 'target_item_lag_3',\n",
              " 'tfidf_feat_shop_9',\n",
              " 'target_shop_lag_12',\n",
              " 'target_shop_lag_1',\n",
              " 'distinct_items_in_month_lag_1',\n",
              " 'trg_ret_item_mth_lag_1',\n",
              " 'distinct_items_in_month_lag_3',\n",
              " 'tfidf_feat_shop_7',\n",
              " 'ditems_in_month_shop_lag_6',\n",
              " 'target_item_lag_6',\n",
              " 'target_lag_12',\n",
              " 'target_shop_lag_2',\n",
              " 'ditems_in_month_shop_lag_2',\n",
              " 'ditems_in_month_shop_lag_3',\n",
              " 'target_lag_6',\n",
              " 'target_lag_9',\n",
              " 'target_shop_lag_3',\n",
              " 'tfidf_feat_shop_6',\n",
              " 'tfidf_feat_itemcat_4',\n",
              " 'ditems_in_month_shop_lag_1',\n",
              " 'distinct_items_in_month_lag_2',\n",
              " 'target_lag_2',\n",
              " 'tfidf_feat_itemcat_6',\n",
              " 'distinct_items_in_month_lag_9',\n",
              " 'tfidf_feat_shop_2',\n",
              " 'target_item_lag_2',\n",
              " 'tfidf_feat_itemcat_7',\n",
              " 'trg_ret_item_mth_lag_2',\n",
              " 'tfidf_feat_itemcat_2',\n",
              " 'tfidf_feat_shop_3',\n",
              " 'target_item_lag_1',\n",
              " 'tfidf_feat_itemcat_3',\n",
              " 'tfidf_feat_shop_1',\n",
              " 'tfidf_feat_shop_5',\n",
              " 'month',\n",
              " 'trg_ret_shop_per_mth_lag_1',\n",
              " 'trg_ret_shop_per_mth_lag_3',\n",
              " 'target_lag_1',\n",
              " 'trg_ret_item_mth_lag_3',\n",
              " 'tfidf_feat_itemcat_5',\n",
              " 'tfidf_feat_itemcat_8',\n",
              " 'tfidf_feat_shop_8',\n",
              " 'distinct_items_in_month_lag_12',\n",
              " 'tfidf_feat_itemcat_1',\n",
              " 'tfidf_feat_itemcat_9',\n",
              " 'tfidf_feat_shop_0',\n",
              " 'distinct_items_in_month_lag_6']"
            ]
          },
          "metadata": {
            "tags": []
          },
          "execution_count": 44
        }
      ]
    },
    {
      "cell_type": "code",
      "metadata": {
        "id": "aWze-JvA2G15",
        "colab_type": "code",
        "outputId": "e3b342a8-7823-437e-ec41-9b1d2c40e137",
        "colab": {
          "base_uri": "https://localhost:8080/",
          "height": 168
        }
      },
      "source": [
        "to_drop_cols"
      ],
      "execution_count": 47,
      "outputs": [
        {
          "output_type": "execute_result",
          "data": {
            "text/plain": [
              "['distinct_items_in_month',\n",
              " 'item_category_id',\n",
              " 'trg_ret_shop_per_mth',\n",
              " 'trg_ret_item_mth',\n",
              " 'target_item',\n",
              " 'target_shop',\n",
              " 'ditems_in_month_shop',\n",
              " 'target',\n",
              " 'date_block_num']"
            ]
          },
          "metadata": {
            "tags": []
          },
          "execution_count": 47
        }
      ]
    },
    {
      "cell_type": "code",
      "metadata": {
        "id": "jANfX4UnKTkI",
        "colab_type": "code",
        "outputId": "71040426-1727-4ba2-aaea-ce1e723bc0ed",
        "colab": {
          "base_uri": "https://localhost:8080/",
          "height": 1000
        }
      },
      "source": [
        "all_data.info()"
      ],
      "execution_count": 45,
      "outputs": [
        {
          "output_type": "stream",
          "text": [
            "<class 'pandas.core.frame.DataFrame'>\n",
            "Int64Index: 6639294 entries, 0 to 6639293\n",
            "Data columns (total 68 columns):\n",
            "shop_id                           int8\n",
            "item_id                           int16\n",
            "date_block_num                    int8\n",
            "target                            int16\n",
            "target_shop                       int16\n",
            "target_item                       int16\n",
            "trg_ret_shop_per_mth              int8\n",
            "trg_ret_item_mth                  int8\n",
            "distinct_items_in_month           int16\n",
            "ditems_in_month_shop              int16\n",
            "target_shop_lag_1                 int16\n",
            "distinct_items_in_month_lag_1     int16\n",
            "target_lag_1                      int16\n",
            "ditems_in_month_shop_lag_1        int16\n",
            "target_item_lag_1                 int16\n",
            "target_shop_lag_2                 int16\n",
            "distinct_items_in_month_lag_2     int16\n",
            "target_lag_2                      int16\n",
            "ditems_in_month_shop_lag_2        int16\n",
            "target_item_lag_2                 int16\n",
            "target_shop_lag_3                 int16\n",
            "distinct_items_in_month_lag_3     int16\n",
            "target_lag_3                      int16\n",
            "ditems_in_month_shop_lag_3        int16\n",
            "target_item_lag_3                 int16\n",
            "target_shop_lag_6                 int16\n",
            "distinct_items_in_month_lag_6     int16\n",
            "target_lag_6                      int16\n",
            "ditems_in_month_shop_lag_6        int16\n",
            "target_item_lag_6                 int16\n",
            "target_shop_lag_9                 int16\n",
            "distinct_items_in_month_lag_9     int16\n",
            "target_lag_9                      int16\n",
            "ditems_in_month_shop_lag_9        int16\n",
            "target_item_lag_9                 int16\n",
            "target_shop_lag_12                int16\n",
            "distinct_items_in_month_lag_12    int16\n",
            "target_lag_12                     int16\n",
            "ditems_in_month_shop_lag_12       int16\n",
            "target_item_lag_12                int16\n",
            "trg_ret_shop_per_mth_lag_1        int8\n",
            "trg_ret_item_mth_lag_1            int8\n",
            "trg_ret_shop_per_mth_lag_2        int8\n",
            "trg_ret_item_mth_lag_2            int8\n",
            "trg_ret_shop_per_mth_lag_3        int8\n",
            "trg_ret_item_mth_lag_3            int8\n",
            "item_category_id                  int8\n",
            "tfidf_feat_itemcat_0              float32\n",
            "tfidf_feat_itemcat_1              float32\n",
            "tfidf_feat_itemcat_2              float32\n",
            "tfidf_feat_itemcat_3              float32\n",
            "tfidf_feat_itemcat_4              float32\n",
            "tfidf_feat_itemcat_5              float32\n",
            "tfidf_feat_itemcat_6              float32\n",
            "tfidf_feat_itemcat_7              float32\n",
            "tfidf_feat_itemcat_8              float32\n",
            "tfidf_feat_itemcat_9              float32\n",
            "tfidf_feat_shop_0                 float32\n",
            "tfidf_feat_shop_1                 float32\n",
            "tfidf_feat_shop_2                 float32\n",
            "tfidf_feat_shop_3                 float32\n",
            "tfidf_feat_shop_4                 float32\n",
            "tfidf_feat_shop_5                 float32\n",
            "tfidf_feat_shop_6                 float32\n",
            "tfidf_feat_shop_7                 float32\n",
            "tfidf_feat_shop_8                 float32\n",
            "tfidf_feat_shop_9                 float32\n",
            "month                             int8\n",
            "dtypes: float32(20), int16(36), int8(12)\n",
            "memory usage: 1.1 GB\n"
          ],
          "name": "stdout"
        }
      ]
    },
    {
      "cell_type": "code",
      "metadata": {
        "id": "gy8Ht9bhKbIJ",
        "colab_type": "code",
        "colab": {}
      },
      "source": [
        "##Prepping the data for training\n",
        "test_block = 34\n",
        "vald_block = 33\n",
        "\n",
        "dates = all_data['date_block_num']\n",
        "test_block = dates.unique()[-1]"
      ],
      "execution_count": 0,
      "outputs": []
    },
    {
      "cell_type": "code",
      "metadata": {
        "id": "311zy8UsVBel",
        "colab_type": "code",
        "colab": {}
      },
      "source": [
        "X_train = all_data.loc[dates < vald_block].drop(to_drop_cols,axis = 1)\n",
        "y_train = all_data.loc[dates <  vald_block, 'target'].values\n",
        "\n",
        "X_vald = all_data.loc[dates == vald_block].drop(to_drop_cols,axis=1)\n",
        "y_vald = all_data.loc[dates ==  vald_block, 'target'].values\n",
        "\n",
        "X_test= all_data.loc[dates == test_block].drop(to_drop_cols,axis = 1)\n",
        "y_test = all_data.loc[dates ==  test_block, 'target'].values"
      ],
      "execution_count": 0,
      "outputs": []
    },
    {
      "cell_type": "code",
      "metadata": {
        "id": "3CNKl4xENiLc",
        "colab_type": "code",
        "colab": {
          "base_uri": "https://localhost:8080/",
          "height": 34
        },
        "outputId": "109f1d14-8ab2-466d-f451-22dddd1dbf65"
      },
      "source": [
        "gc.collect()"
      ],
      "execution_count": 48,
      "outputs": [
        {
          "output_type": "execute_result",
          "data": {
            "text/plain": [
              "0"
            ]
          },
          "metadata": {
            "tags": []
          },
          "execution_count": 48
        }
      ]
    },
    {
      "cell_type": "code",
      "metadata": {
        "id": "5TFdDQ8gNxMq",
        "colab_type": "code",
        "outputId": "cc7d14dd-04be-4a69-9b42-b638abeb4834",
        "colab": {
          "base_uri": "https://localhost:8080/",
          "height": 1000
        }
      },
      "source": [
        "lgb_params = {\n",
        "               'feature_fraction': 0.75,\n",
        "               'metric': 'rmse',\n",
        "               'nthread':1, \n",
        "               'min_data_in_leaf': 2**7, \n",
        "               'bagging_fraction': 0.75, \n",
        "               'learning_rate': 0.03, \n",
        "               'objective': 'mse', \n",
        "               'bagging_seed': 2**7, \n",
        "               'num_leaves': 2**7,\n",
        "               'bagging_freq':1,\n",
        "               'verbose':0 \n",
        "              }\n",
        "model = lgb.train(lgb_params, lgb.Dataset(X_train, label=y_train), num_boost_round=100, valid_sets=[lgb.Dataset(X_vald, label=y_vald)], early_stopping_rounds=5)"
      ],
      "execution_count": 56,
      "outputs": [
        {
          "output_type": "stream",
          "text": [
            "[1]\tvalid_0's rmse: 5.30754\n",
            "Training until validation scores don't improve for 5 rounds.\n",
            "[2]\tvalid_0's rmse: 5.27243\n",
            "[3]\tvalid_0's rmse: 5.25123\n",
            "[4]\tvalid_0's rmse: 5.22456\n",
            "[5]\tvalid_0's rmse: 5.19832\n",
            "[6]\tvalid_0's rmse: 5.16932\n",
            "[7]\tvalid_0's rmse: 5.14043\n",
            "[8]\tvalid_0's rmse: 5.12422\n",
            "[9]\tvalid_0's rmse: 5.09789\n",
            "[10]\tvalid_0's rmse: 5.0797\n",
            "[11]\tvalid_0's rmse: 5.05606\n",
            "[12]\tvalid_0's rmse: 5.0438\n",
            "[13]\tvalid_0's rmse: 5.02028\n",
            "[14]\tvalid_0's rmse: 5.00214\n",
            "[15]\tvalid_0's rmse: 4.98749\n",
            "[16]\tvalid_0's rmse: 4.96629\n",
            "[17]\tvalid_0's rmse: 4.95527\n",
            "[18]\tvalid_0's rmse: 4.93658\n",
            "[19]\tvalid_0's rmse: 4.91752\n",
            "[20]\tvalid_0's rmse: 4.90426\n",
            "[21]\tvalid_0's rmse: 4.89382\n",
            "[22]\tvalid_0's rmse: 4.8816\n",
            "[23]\tvalid_0's rmse: 4.86388\n",
            "[24]\tvalid_0's rmse: 4.84651\n",
            "[25]\tvalid_0's rmse: 4.83207\n",
            "[26]\tvalid_0's rmse: 4.81909\n",
            "[27]\tvalid_0's rmse: 4.81378\n",
            "[28]\tvalid_0's rmse: 4.80036\n",
            "[29]\tvalid_0's rmse: 4.79049\n",
            "[30]\tvalid_0's rmse: 4.78683\n",
            "[31]\tvalid_0's rmse: 4.77927\n",
            "[32]\tvalid_0's rmse: 4.77031\n",
            "[33]\tvalid_0's rmse: 4.76294\n",
            "[34]\tvalid_0's rmse: 4.75472\n",
            "[35]\tvalid_0's rmse: 4.74993\n",
            "[36]\tvalid_0's rmse: 4.74096\n",
            "[37]\tvalid_0's rmse: 4.7337\n",
            "[38]\tvalid_0's rmse: 4.72929\n",
            "[39]\tvalid_0's rmse: 4.72317\n",
            "[40]\tvalid_0's rmse: 4.71485\n",
            "[41]\tvalid_0's rmse: 4.71117\n",
            "[42]\tvalid_0's rmse: 4.70947\n",
            "[43]\tvalid_0's rmse: 4.70202\n",
            "[44]\tvalid_0's rmse: 4.69701\n",
            "[45]\tvalid_0's rmse: 4.69109\n",
            "[46]\tvalid_0's rmse: 4.68823\n",
            "[47]\tvalid_0's rmse: 4.6815\n",
            "[48]\tvalid_0's rmse: 4.67695\n",
            "[49]\tvalid_0's rmse: 4.67714\n",
            "[50]\tvalid_0's rmse: 4.67086\n",
            "[51]\tvalid_0's rmse: 4.66733\n",
            "[52]\tvalid_0's rmse: 4.66708\n",
            "[53]\tvalid_0's rmse: 4.66545\n",
            "[54]\tvalid_0's rmse: 4.66535\n",
            "[55]\tvalid_0's rmse: 4.65925\n",
            "[56]\tvalid_0's rmse: 4.65605\n",
            "[57]\tvalid_0's rmse: 4.65454\n",
            "[58]\tvalid_0's rmse: 4.65452\n",
            "[59]\tvalid_0's rmse: 4.65028\n",
            "[60]\tvalid_0's rmse: 4.64852\n",
            "[61]\tvalid_0's rmse: 4.64924\n",
            "[62]\tvalid_0's rmse: 4.64641\n",
            "[63]\tvalid_0's rmse: 4.6478\n",
            "[64]\tvalid_0's rmse: 4.64426\n",
            "[65]\tvalid_0's rmse: 4.64464\n",
            "[66]\tvalid_0's rmse: 4.64432\n",
            "[67]\tvalid_0's rmse: 4.64536\n",
            "[68]\tvalid_0's rmse: 4.64454\n",
            "[69]\tvalid_0's rmse: 4.63899\n",
            "[70]\tvalid_0's rmse: 4.63736\n",
            "[71]\tvalid_0's rmse: 4.63513\n",
            "[72]\tvalid_0's rmse: 4.62932\n",
            "[73]\tvalid_0's rmse: 4.62991\n",
            "[74]\tvalid_0's rmse: 4.62636\n",
            "[75]\tvalid_0's rmse: 4.62758\n",
            "[76]\tvalid_0's rmse: 4.62713\n",
            "[77]\tvalid_0's rmse: 4.62804\n",
            "[78]\tvalid_0's rmse: 4.62669\n",
            "[79]\tvalid_0's rmse: 4.62775\n",
            "Early stopping, best iteration is:\n",
            "[74]\tvalid_0's rmse: 4.62636\n"
          ],
          "name": "stdout"
        }
      ]
    },
    {
      "cell_type": "code",
      "metadata": {
        "id": "KV7Ani7FNnFL",
        "colab_type": "code",
        "colab": {}
      },
      "source": [
        "lgb_pred = model.predict(X_test).clip(0,20)"
      ],
      "execution_count": 0,
      "outputs": []
    },
    {
      "cell_type": "code",
      "metadata": {
        "id": "vqD6PMDyZLz_",
        "colab_type": "code",
        "colab": {}
      },
      "source": [
        "df_pred = pd.DataFrame()\n",
        "df_pred['lgb_pred'] = lgb_pred"
      ],
      "execution_count": 0,
      "outputs": []
    },
    {
      "cell_type": "code",
      "metadata": {
        "id": "u96-yVNIZLux",
        "colab_type": "code",
        "colab": {
          "base_uri": "https://localhost:8080/",
          "height": 1000
        },
        "outputId": "4e79d245-c4a6-48c2-a0b4-c4bf126963fb"
      },
      "source": [
        "pd.Series(model.feature_importance(),index=X_train.columns).sort_values(ascending=False)"
      ],
      "execution_count": 64,
      "outputs": [
        {
          "output_type": "execute_result",
          "data": {
            "text/plain": [
              "item_id                           1582\n",
              "month                             1015\n",
              "target_item_lag_1                  713\n",
              "target_lag_1                       558\n",
              "shop_id                            504\n",
              "target_lag_2                       331\n",
              "target_lag_3                       299\n",
              "distinct_items_in_month_lag_1      276\n",
              "ditems_in_month_shop_lag_1         276\n",
              "tfidf_feat_itemcat_9               261\n",
              "distinct_items_in_month_lag_2      232\n",
              "target_item_lag_2                  221\n",
              "target_shop_lag_1                  219\n",
              "target_lag_6                       203\n",
              "distinct_items_in_month_lag_12     181\n",
              "tfidf_feat_itemcat_3               181\n",
              "target_item_lag_3                  168\n",
              "distinct_items_in_month_lag_3      161\n",
              "tfidf_feat_shop_3                  152\n",
              "tfidf_feat_itemcat_4               146\n",
              "distinct_items_in_month_lag_6      128\n",
              "target_shop_lag_2                  115\n",
              "target_lag_9                       113\n",
              "tfidf_feat_shop_5                  111\n",
              "ditems_in_month_shop_lag_2         104\n",
              "distinct_items_in_month_lag_9       97\n",
              "tfidf_feat_shop_7                   92\n",
              "target_item_lag_6                   75\n",
              "target_lag_12                       71\n",
              "tfidf_feat_shop_4                   62\n",
              "trg_ret_item_mth_lag_1              57\n",
              "tfidf_feat_itemcat_8                56\n",
              "target_shop_lag_3                   56\n",
              "target_item_lag_9                   52\n",
              "target_shop_lag_12                  42\n",
              "target_shop_lag_6                   41\n",
              "target_shop_lag_9                   38\n",
              "ditems_in_month_shop_lag_3          38\n",
              "tfidf_feat_itemcat_0                37\n",
              "tfidf_feat_shop_0                   36\n",
              "tfidf_feat_shop_1                   36\n",
              "tfidf_feat_itemcat_7                34\n",
              "trg_ret_shop_per_mth_lag_2          34\n",
              "trg_ret_shop_per_mth_lag_1          33\n",
              "target_item_lag_12                  28\n",
              "trg_ret_item_mth_lag_2              24\n",
              "tfidf_feat_shop_9                   24\n",
              "ditems_in_month_shop_lag_6          14\n",
              "trg_ret_shop_per_mth_lag_3          12\n",
              "tfidf_feat_shop_6                   12\n",
              "tfidf_feat_shop_2                   11\n",
              "ditems_in_month_shop_lag_12         10\n",
              "tfidf_feat_itemcat_5                 9\n",
              "ditems_in_month_shop_lag_9           6\n",
              "tfidf_feat_shop_8                    5\n",
              "tfidf_feat_itemcat_2                 3\n",
              "tfidf_feat_itemcat_1                 2\n",
              "trg_ret_item_mth_lag_3               1\n",
              "tfidf_feat_itemcat_6                 0\n",
              "dtype: int64"
            ]
          },
          "metadata": {
            "tags": []
          },
          "execution_count": 64
        }
      ]
    },
    {
      "cell_type": "code",
      "metadata": {
        "id": "uIsVvwftbXH4",
        "colab_type": "code",
        "colab": {
          "base_uri": "https://localhost:8080/",
          "height": 747
        },
        "outputId": "fb544936-e23f-4378-896f-7ec25bf37f10"
      },
      "source": [
        "lgb.plot_importance(model,figsize=(10,12))"
      ],
      "execution_count": 66,
      "outputs": [
        {
          "output_type": "execute_result",
          "data": {
            "text/plain": [
              "<matplotlib.axes._subplots.AxesSubplot at 0x7fcf399a8d30>"
            ]
          },
          "metadata": {
            "tags": []
          },
          "execution_count": 66
        },
        {
          "output_type": "display_data",
          "data": {
            "image/png": "[encoded data removed]",
            "text/plain": [
              "<Figure size 720x864 with 1 Axes>"
            ]
          },
          "metadata": {
            "tags": []
          }
        }
      ]
    },
    {
      "cell_type": "code",
      "metadata": {
        "id": "wGRkxHYGb-Th",
        "colab_type": "code",
        "colab": {}
      },
      "source": [
        "from xgboost import XGBRegressor\n",
        "from xgboost import plot_importance"
      ],
      "execution_count": 0,
      "outputs": []
    },
    {
      "cell_type": "code",
      "metadata": {
        "id": "Rr-SEiczZLqF",
        "colab_type": "code",
        "colab": {}
      },
      "source": [
        "xgb_model = XGBRegressor(\n",
        "    max_depth=8,\n",
        "    n_estimators=1000,\n",
        "    min_child_weight=300, \n",
        "    colsample_bytree=0.8, \n",
        "    subsample=0.8, \n",
        "    eta=0.3,    \n",
        "    seed=42)\n",
        "\n",
        "xgb_model.fit(\n",
        "    X_train, \n",
        "    y_train, \n",
        "    eval_metric=\"rmse\", \n",
        "    eval_set=[(X_train, y_train), (X_vald, y_vald)], \n",
        "    verbose=True, \n",
        "    early_stopping_rounds = 10)"
      ],
      "execution_count": 0,
      "outputs": []
    },
    {
      "cell_type": "code",
      "metadata": {
        "id": "RAQ44R2AZLkW",
        "colab_type": "code",
        "colab": {}
      },
      "source": [
        "pred_xgb = xgb_model.predict(X_test).clip(0,20)"
      ],
      "execution_count": 0,
      "outputs": []
    },
    {
      "cell_type": "code",
      "metadata": {
        "id": "chT9YmUQZLdt",
        "colab_type": "code",
        "colab": {}
      },
      "source": [
        "df_pred['xgb_pred'] = pred_xgb"
      ],
      "execution_count": 0,
      "outputs": []
    },
    {
      "cell_type": "code",
      "metadata": {
        "id": "j2R7_WWnZLWA",
        "colab_type": "code",
        "colab": {
          "base_uri": "https://localhost:8080/",
          "height": 638
        },
        "outputId": "ad3f6234-b959-423b-90e3-b068abd0e651"
      },
      "source": [
        "fig, ax = plt.subplots(1,1,figsize=(15,10))\n",
        "plot_importance(booster=xgb_model,ax=ax)"
      ],
      "execution_count": 74,
      "outputs": [
        {
          "output_type": "execute_result",
          "data": {
            "text/plain": [
              "<matplotlib.axes._subplots.AxesSubplot at 0x7fcf392484e0>"
            ]
          },
          "metadata": {
            "tags": []
          },
          "execution_count": 74
        },
        {
          "output_type": "display_data",
          "data": {
            "image/png": "[encoded data removed]",
            "text/plain": [
              "<Figure size 1080x720 with 1 Axes>"
            ]
          },
          "metadata": {
            "tags": []
          }
        }
      ]
    },
    {
      "cell_type": "code",
      "metadata": {
        "id": "PXXCCJaNZLNk",
        "colab_type": "code",
        "colab": {}
      },
      "source": [
        "df_pred.to_csv('lgb_xgb.csv',index=False)"
      ],
      "execution_count": 0,
      "outputs": []
    },
    {
      "cell_type": "code",
      "metadata": {
        "id": "rDBGd4k6aPWO",
        "colab_type": "code",
        "colab": {}
      },
      "source": [
        "!pip install catboost"
      ],
      "execution_count": 0,
      "outputs": []
    },
    {
      "cell_type": "code",
      "metadata": {
        "id": "ROL1EA43ZLDk",
        "colab_type": "code",
        "colab": {}
      },
      "source": [
        "##Catboost \n",
        "from catboost import CatBoostRegressor"
      ],
      "execution_count": 0,
      "outputs": []
    },
    {
      "cell_type": "code",
      "metadata": {
        "id": "mREBN2pEW-fq",
        "colab_type": "code",
        "colab": {}
      },
      "source": [
        "catb = CatBoostRegressor(\n",
        "    iterations=100,\n",
        "    random_seed=0,\n",
        "    learning_rate=0.1,\n",
        "    max_ctr_complexity=3, # To enable feature interactions\n",
        "    has_time=True, # To disable random permutations\n",
        "    boosting_type='Ordered', # To reduce overfitting\n",
        "    loss_function='RMSE',\n",
        "    od_type='Iter', \n",
        "    od_wait=10, # Early stopping    \n",
        ")"
      ],
      "execution_count": 0,
      "outputs": []
    },
    {
      "cell_type": "code",
      "metadata": {
        "id": "a0hFjdIsW-VC",
        "colab_type": "code",
        "colab": {
          "base_uri": "https://localhost:8080/",
          "height": 286
        },
        "outputId": "aa7ef0cc-f0e4-4d7d-8671-581345f2b714"
      },
      "source": [
        "catb.fit(X_train,y_train,cat_features=None,eval_set=(X_vald,y_vald),verbose=10)"
      ],
      "execution_count": 53,
      "outputs": [
        {
          "output_type": "stream",
          "text": [
            "0:\tlearn: 3.3836307\ttest: 5.2709601\tbest: 5.2709601 (0)\ttotal: 995ms\tremaining: 1m 38s\n",
            "10:\tlearn: 2.6633986\ttest: 4.8421287\tbest: 4.8421287 (10)\ttotal: 7.85s\tremaining: 1m 3s\n",
            "20:\tlearn: 2.4922300\ttest: 4.7019456\tbest: 4.7019456 (20)\ttotal: 14.5s\tremaining: 54.6s\n",
            "30:\tlearn: 2.4190437\ttest: 4.6302003\tbest: 4.6302003 (30)\ttotal: 21.2s\tremaining: 47.2s\n",
            "40:\tlearn: 2.3642970\ttest: 4.6193479\tbest: 4.6193479 (40)\ttotal: 27.7s\tremaining: 39.9s\n",
            "50:\tlearn: 2.3221707\ttest: 4.6090871\tbest: 4.6090871 (50)\ttotal: 34.2s\tremaining: 32.8s\n",
            "60:\tlearn: 2.2954846\ttest: 4.6021593\tbest: 4.6014330 (59)\ttotal: 40.8s\tremaining: 26.1s\n",
            "70:\tlearn: 2.2833007\ttest: 4.6017512\tbest: 4.6008276 (65)\ttotal: 47.4s\tremaining: 19.4s\n",
            "80:\tlearn: 2.2680420\ttest: 4.6005408\tbest: 4.6002825 (75)\ttotal: 53.9s\tremaining: 12.7s\n",
            "90:\tlearn: 2.2541333\ttest: 4.5945723\tbest: 4.5942969 (87)\ttotal: 1m\tremaining: 5.99s\n",
            "99:\tlearn: 2.2418513\ttest: 4.5839504\tbest: 4.5839504 (99)\ttotal: 1m 6s\tremaining: 0us\n",
            "\n",
            "bestTest = 4.58395038\n",
            "bestIteration = 99\n",
            "\n"
          ],
          "name": "stdout"
        },
        {
          "output_type": "execute_result",
          "data": {
            "text/plain": [
              "<catboost.core.CatBoostRegressor at 0x7f5ae4798940>"
            ]
          },
          "metadata": {
            "tags": []
          },
          "execution_count": 53
        }
      ]
    },
    {
      "cell_type": "code",
      "metadata": {
        "id": "N61RQZLFW-K4",
        "colab_type": "code",
        "colab": {}
      },
      "source": [
        "catb_pred = catb.predict(X_test).clip(0,20)"
      ],
      "execution_count": 0,
      "outputs": []
    },
    {
      "cell_type": "code",
      "metadata": {
        "id": "WJsO9uNkdTEf",
        "colab_type": "code",
        "colab": {
          "base_uri": "https://localhost:8080/",
          "height": 151
        },
        "outputId": "c697c18b-b2f1-4060-9636-72dd59054187"
      },
      "source": [
        "df_pred.info()"
      ],
      "execution_count": 70,
      "outputs": [
        {
          "output_type": "stream",
          "text": [
            "<class 'pandas.core.frame.DataFrame'>\n",
            "RangeIndex: 214200 entries, 0 to 214199\n",
            "Data columns (total 3 columns):\n",
            "lgb_pred    214200 non-null float64\n",
            "xgb_pred    214200 non-null float64\n",
            "catb        214200 non-null float64\n",
            "dtypes: float64(3)\n",
            "memory usage: 4.9 MB\n"
          ],
          "name": "stdout"
        }
      ]
    },
    {
      "cell_type": "code",
      "metadata": {
        "id": "w0Nx1rNNc1DF",
        "colab_type": "code",
        "colab": {
          "base_uri": "https://localhost:8080/",
          "height": 1000
        },
        "outputId": "bd8a858a-178d-45f7-a890-2874defea32c"
      },
      "source": [
        "print(catb.get_feature_importance( prettified=True)) "
      ],
      "execution_count": 77,
      "outputs": [
        {
          "output_type": "stream",
          "text": [
            "                        Feature Id  Importances\n",
            "0                     target_lag_1    42.587802\n",
            "1                     target_lag_3     6.224143\n",
            "2                     target_lag_2     5.655678\n",
            "3                            month     4.887641\n",
            "4                     target_lag_6     4.644093\n",
            "5             tfidf_feat_itemcat_9     4.194084\n",
            "6                target_shop_lag_1     3.621534\n",
            "7                target_item_lag_1     3.064757\n",
            "8             tfidf_feat_itemcat_3     2.431548\n",
            "9                target_item_lag_2     2.278016\n",
            "10               target_item_lag_3     2.197295\n",
            "11      ditems_in_month_shop_lag_1     2.115114\n",
            "12               target_shop_lag_9     1.702931\n",
            "13                    target_lag_9     1.522467\n",
            "14      ditems_in_month_shop_lag_6     1.373482\n",
            "15      ditems_in_month_shop_lag_3     1.215721\n",
            "16  distinct_items_in_month_lag_12     1.172587\n",
            "17   distinct_items_in_month_lag_3     1.052710\n",
            "18   distinct_items_in_month_lag_9     0.957812\n",
            "19      trg_ret_shop_per_mth_lag_1     0.936699\n",
            "20              target_shop_lag_12     0.827347\n",
            "21          trg_ret_item_mth_lag_2     0.757772\n",
            "22               target_item_lag_9     0.672060\n",
            "23              target_item_lag_12     0.619155\n",
            "24                   target_lag_12     0.570669\n",
            "25          trg_ret_item_mth_lag_1     0.514611\n",
            "26               target_shop_lag_6     0.455579\n",
            "27      trg_ret_shop_per_mth_lag_2     0.395947\n",
            "28                         item_id     0.337959\n",
            "29               target_shop_lag_2     0.307110\n",
            "30               tfidf_feat_shop_3     0.189325\n",
            "31      trg_ret_shop_per_mth_lag_3     0.188322\n",
            "32   distinct_items_in_month_lag_2     0.100152\n",
            "33      ditems_in_month_shop_lag_2     0.050135\n",
            "34               target_shop_lag_3     0.044228\n",
            "35   distinct_items_in_month_lag_1     0.041423\n",
            "36      ditems_in_month_shop_lag_9     0.027883\n",
            "37               target_item_lag_6     0.025603\n",
            "38   distinct_items_in_month_lag_6     0.015821\n",
            "39                         shop_id     0.012985\n",
            "40               tfidf_feat_shop_1     0.009798\n",
            "41     ditems_in_month_shop_lag_12     0.000000\n",
            "42          trg_ret_item_mth_lag_3     0.000000\n",
            "43            tfidf_feat_itemcat_0     0.000000\n",
            "44            tfidf_feat_itemcat_1     0.000000\n",
            "45            tfidf_feat_itemcat_2     0.000000\n",
            "46            tfidf_feat_itemcat_4     0.000000\n",
            "47            tfidf_feat_itemcat_5     0.000000\n",
            "48            tfidf_feat_itemcat_6     0.000000\n",
            "49            tfidf_feat_itemcat_7     0.000000\n",
            "50            tfidf_feat_itemcat_8     0.000000\n",
            "51               tfidf_feat_shop_0     0.000000\n",
            "52               tfidf_feat_shop_2     0.000000\n",
            "53               tfidf_feat_shop_4     0.000000\n",
            "54               tfidf_feat_shop_5     0.000000\n",
            "55               tfidf_feat_shop_6     0.000000\n",
            "56               tfidf_feat_shop_7     0.000000\n",
            "57               tfidf_feat_shop_8     0.000000\n",
            "58               tfidf_feat_shop_9     0.000000\n"
          ],
          "name": "stdout"
        }
      ]
    },
    {
      "cell_type": "code",
      "metadata": {
        "id": "Ph6ZRa9xc1Gk",
        "colab_type": "code",
        "colab": {}
      },
      "source": [
        "df_pred['item_cnt_month'] = df_pred.apply(lambda x: (x.lgb_pred + x.xgb_pred + x.catb )/3,axis=1) "
      ],
      "execution_count": 0,
      "outputs": []
    },
    {
      "cell_type": "code",
      "metadata": {
        "id": "xk2iuxVUfKnh",
        "colab_type": "code",
        "colab": {}
      },
      "source": [
        "y_lgb_classifier = all_data.loc[dates <  vald_block, 'target'].apply(lambda x: 1 if x>0 else 0).values"
      ],
      "execution_count": 0,
      "outputs": []
    },
    {
      "cell_type": "code",
      "metadata": {
        "id": "-7fuoB2hfKe-",
        "colab_type": "code",
        "colab": {}
      },
      "source": [
        "y_vald_classifier = all_data.loc[dates ==  vald_block, 'target'].apply(lambda x: 1 if x>0 else 0).values"
      ],
      "execution_count": 0,
      "outputs": []
    },
    {
      "cell_type": "code",
      "metadata": {
        "id": "U5xVA_b8c0_y",
        "colab_type": "code",
        "colab": {
          "base_uri": "https://localhost:8080/",
          "height": 235
        },
        "outputId": "9392536c-fa6a-4098-b802-39e209b82a87"
      },
      "source": [
        "#Add a lightgbm classifier to predict if an item is purchased \n",
        "classifier_params = {\n",
        "               'feature_fraction': 0.75,\n",
        "               'metric': 'auc', \n",
        "               'nthread': 1, \n",
        "               'min_data_in_leaf': 2**7, \n",
        "               'bagging_fraction': 0.75, \n",
        "               'learning_rate': 0.3, \n",
        "               'objective': 'binary', \n",
        "               'bagging_seed': 2**7, \n",
        "               'num_leaves': 80,\n",
        "               'bagging_freq':1,\n",
        "               'is_unbalance':True,\n",
        "               'verbose':0 \n",
        "              }\n",
        "lgb_train_ds  = lgb.Dataset(X_train,label=y_lgb_classifier)\n",
        "lgb_vald_ds = lgb.Dataset(X_vald,label=y_vald_classifier) \n",
        "\n",
        "lgb_classifier = lgb.train(classifier_params, lgb_train_ds, valid_sets=[lgb_vald_ds],early_stopping_rounds=10,num_boost_round=100,verbose_eval=10 )\n"
      ],
      "execution_count": 86,
      "outputs": [
        {
          "output_type": "stream",
          "text": [
            "Training until validation scores don't improve for 10 rounds.\n",
            "[10]\tvalid_0's auc: 0.841829\n",
            "[20]\tvalid_0's auc: 0.846875\n",
            "[30]\tvalid_0's auc: 0.848425\n",
            "[40]\tvalid_0's auc: 0.848881\n",
            "[50]\tvalid_0's auc: 0.84922\n",
            "[60]\tvalid_0's auc: 0.851586\n",
            "[70]\tvalid_0's auc: 0.851548\n",
            "[80]\tvalid_0's auc: 0.852032\n",
            "[90]\tvalid_0's auc: 0.852531\n",
            "[100]\tvalid_0's auc: 0.85253\n",
            "Early stopping, best iteration is:\n",
            "[90]\tvalid_0's auc: 0.852531\n"
          ],
          "name": "stdout"
        }
      ]
    },
    {
      "cell_type": "code",
      "metadata": {
        "id": "amV7HkW6jOku",
        "colab_type": "code",
        "colab": {}
      },
      "source": [
        "classifier_probability = lgb_classifier.predict(X_test)"
      ],
      "execution_count": 0,
      "outputs": []
    },
    {
      "cell_type": "code",
      "metadata": {
        "id": "EClmkQF5fKcS",
        "colab_type": "code",
        "colab": {
          "base_uri": "https://localhost:8080/",
          "height": 50
        },
        "outputId": "74669328-ca43-40ca-bce0-cff5d8b81df9"
      },
      "source": [
        "classifier_probability"
      ],
      "execution_count": 89,
      "outputs": [
        {
          "output_type": "execute_result",
          "data": {
            "text/plain": [
              "array([0.56620624, 0.61620529, 0.85574245, ..., 0.18773221, 0.1364755 ,\n",
              "       0.14568583])"
            ]
          },
          "metadata": {
            "tags": []
          },
          "execution_count": 89
        }
      ]
    },
    {
      "cell_type": "code",
      "metadata": {
        "id": "aK6HBzBIpdZC",
        "colab_type": "code",
        "colab": {
          "base_uri": "https://localhost:8080/",
          "height": 195
        },
        "outputId": "23c039cc-dc69-4af2-f2bf-f7f64197665c"
      },
      "source": [
        "df_pred.head()"
      ],
      "execution_count": 135,
      "outputs": [
        {
          "output_type": "execute_result",
          "data": {
            "text/html": [
              "<div>\n",
              "<style scoped>\n",
              "    .dataframe tbody tr th:only-of-type {\n",
              "        vertical-align: middle;\n",
              "    }\n",
              "\n",
              "    .dataframe tbody tr th {\n",
              "        vertical-align: top;\n",
              "    }\n",
              "\n",
              "    .dataframe thead th {\n",
              "        text-align: right;\n",
              "    }\n",
              "</style>\n",
              "<table border=\"1\" class=\"dataframe\">\n",
              "  <thead>\n",
              "    <tr style=\"text-align: right;\">\n",
              "      <th></th>\n",
              "      <th>lgb_pred</th>\n",
              "      <th>xgb_pred</th>\n",
              "      <th>catb</th>\n",
              "      <th>item_cnt_month</th>\n",
              "    </tr>\n",
              "  </thead>\n",
              "  <tbody>\n",
              "    <tr>\n",
              "      <th>0</th>\n",
              "      <td>0.459279</td>\n",
              "      <td>0.818846</td>\n",
              "      <td>0.895314</td>\n",
              "      <td>0.724480</td>\n",
              "    </tr>\n",
              "    <tr>\n",
              "      <th>1</th>\n",
              "      <td>0.177813</td>\n",
              "      <td>0.215463</td>\n",
              "      <td>0.264770</td>\n",
              "      <td>0.219349</td>\n",
              "    </tr>\n",
              "    <tr>\n",
              "      <th>2</th>\n",
              "      <td>1.024425</td>\n",
              "      <td>1.344738</td>\n",
              "      <td>0.976149</td>\n",
              "      <td>1.115104</td>\n",
              "    </tr>\n",
              "    <tr>\n",
              "      <th>3</th>\n",
              "      <td>0.330896</td>\n",
              "      <td>0.432817</td>\n",
              "      <td>0.572263</td>\n",
              "      <td>0.445325</td>\n",
              "    </tr>\n",
              "    <tr>\n",
              "      <th>4</th>\n",
              "      <td>1.351798</td>\n",
              "      <td>3.656095</td>\n",
              "      <td>1.351658</td>\n",
              "      <td>2.119850</td>\n",
              "    </tr>\n",
              "  </tbody>\n",
              "</table>\n",
              "</div>"
            ],
            "text/plain": [
              "   lgb_pred  xgb_pred      catb  item_cnt_month\n",
              "0  0.459279  0.818846  0.895314        0.724480\n",
              "1  0.177813  0.215463  0.264770        0.219349\n",
              "2  1.024425  1.344738  0.976149        1.115104\n",
              "3  0.330896  0.432817  0.572263        0.445325\n",
              "4  1.351798  3.656095  1.351658        2.119850"
            ]
          },
          "metadata": {
            "tags": []
          },
          "execution_count": 135
        }
      ]
    },
    {
      "cell_type": "code",
      "metadata": {
        "id": "Vky5ELVHpdWn",
        "colab_type": "code",
        "colab": {}
      },
      "source": [
        "## Notes: probability greater than 0.5 will indicate that the shop will sell that item"
      ],
      "execution_count": 0,
      "outputs": []
    },
    {
      "cell_type": "code",
      "metadata": {
        "id": "lXSg-aVmpdUP",
        "colab_type": "code",
        "colab": {}
      },
      "source": [
        "df_pred['classifier_prob'] = classifier_probability"
      ],
      "execution_count": 0,
      "outputs": []
    },
    {
      "cell_type": "code",
      "metadata": {
        "id": "2-gsklZYpdRV",
        "colab_type": "code",
        "colab": {
          "base_uri": "https://localhost:8080/",
          "height": 195
        },
        "outputId": "518e0723-2d04-488b-b4e5-0bf204bf6c2b"
      },
      "source": [
        "df_pred.head()"
      ],
      "execution_count": 137,
      "outputs": [
        {
          "output_type": "execute_result",
          "data": {
            "text/html": [
              "<div>\n",
              "<style scoped>\n",
              "    .dataframe tbody tr th:only-of-type {\n",
              "        vertical-align: middle;\n",
              "    }\n",
              "\n",
              "    .dataframe tbody tr th {\n",
              "        vertical-align: top;\n",
              "    }\n",
              "\n",
              "    .dataframe thead th {\n",
              "        text-align: right;\n",
              "    }\n",
              "</style>\n",
              "<table border=\"1\" class=\"dataframe\">\n",
              "  <thead>\n",
              "    <tr style=\"text-align: right;\">\n",
              "      <th></th>\n",
              "      <th>lgb_pred</th>\n",
              "      <th>xgb_pred</th>\n",
              "      <th>catb</th>\n",
              "      <th>item_cnt_month</th>\n",
              "      <th>classifier_prob</th>\n",
              "    </tr>\n",
              "  </thead>\n",
              "  <tbody>\n",
              "    <tr>\n",
              "      <th>0</th>\n",
              "      <td>0.459279</td>\n",
              "      <td>0.818846</td>\n",
              "      <td>0.895314</td>\n",
              "      <td>0.724480</td>\n",
              "      <td>0.566206</td>\n",
              "    </tr>\n",
              "    <tr>\n",
              "      <th>1</th>\n",
              "      <td>0.177813</td>\n",
              "      <td>0.215463</td>\n",
              "      <td>0.264770</td>\n",
              "      <td>0.219349</td>\n",
              "      <td>0.616205</td>\n",
              "    </tr>\n",
              "    <tr>\n",
              "      <th>2</th>\n",
              "      <td>1.024425</td>\n",
              "      <td>1.344738</td>\n",
              "      <td>0.976149</td>\n",
              "      <td>1.115104</td>\n",
              "      <td>0.855742</td>\n",
              "    </tr>\n",
              "    <tr>\n",
              "      <th>3</th>\n",
              "      <td>0.330896</td>\n",
              "      <td>0.432817</td>\n",
              "      <td>0.572263</td>\n",
              "      <td>0.445325</td>\n",
              "      <td>0.674469</td>\n",
              "    </tr>\n",
              "    <tr>\n",
              "      <th>4</th>\n",
              "      <td>1.351798</td>\n",
              "      <td>3.656095</td>\n",
              "      <td>1.351658</td>\n",
              "      <td>2.119850</td>\n",
              "      <td>0.784047</td>\n",
              "    </tr>\n",
              "  </tbody>\n",
              "</table>\n",
              "</div>"
            ],
            "text/plain": [
              "   lgb_pred  xgb_pred      catb  item_cnt_month  classifier_prob\n",
              "0  0.459279  0.818846  0.895314        0.724480         0.566206\n",
              "1  0.177813  0.215463  0.264770        0.219349         0.616205\n",
              "2  1.024425  1.344738  0.976149        1.115104         0.855742\n",
              "3  0.330896  0.432817  0.572263        0.445325         0.674469\n",
              "4  1.351798  3.656095  1.351658        2.119850         0.784047"
            ]
          },
          "metadata": {
            "tags": []
          },
          "execution_count": 137
        }
      ]
    },
    {
      "cell_type": "code",
      "metadata": {
        "id": "uRypsTPsmQUv",
        "colab_type": "code",
        "colab": {}
      },
      "source": [
        "df_pred.rename({'item_cnt_month':'average'},inplace=True,axis=1)"
      ],
      "execution_count": 0,
      "outputs": []
    },
    {
      "cell_type": "code",
      "metadata": {
        "id": "RDLq2xzSmQSQ",
        "colab_type": "code",
        "colab": {}
      },
      "source": [
        "df_pred['item_cnt_month'] = df_pred.apply(lambda x: x.average if x.classifier_prob > 0.5 else 0,axis=1)"
      ],
      "execution_count": 0,
      "outputs": []
    },
    {
      "cell_type": "code",
      "metadata": {
        "id": "ZKyMZ-A1mQQv",
        "colab_type": "code",
        "colab": {}
      },
      "source": [
        "df_pred[df_pred.item_cnt_month == 0]"
      ],
      "execution_count": 0,
      "outputs": []
    },
    {
      "cell_type": "code",
      "metadata": {
        "id": "ZQjQUf1AmQNL",
        "colab_type": "code",
        "colab": {}
      },
      "source": [
        "df_pred['ID'] = df_pred.index.to_list()"
      ],
      "execution_count": 0,
      "outputs": []
    },
    {
      "cell_type": "code",
      "metadata": {
        "id": "SQtE8_MimQJs",
        "colab_type": "code",
        "colab": {}
      },
      "source": [
        "df_pred[['ID','item_cnt_month']].to_csv('sub_lgb_xg_cb.csv',index=False)"
      ],
      "execution_count": 0,
      "outputs": []
    },
    {
      "cell_type": "code",
      "metadata": {
        "id": "DbbyS1XZmQHK",
        "colab_type": "code",
        "colab": {
          "base_uri": "https://localhost:8080/",
          "height": 185
        },
        "outputId": "e44dcf12-3c3e-4ca6-81f8-df0c7d68578b"
      },
      "source": [
        "!ls -ltra "
      ],
      "execution_count": 152,
      "outputs": [
        {
          "output_type": "stream",
          "text": [
            "total 9684\n",
            "drwxr-xr-x 1 root root    4096 Nov 15 16:31 sample_data\n",
            "drwxr-xr-x 1 root root    4096 Nov 15 16:31 .config\n",
            "drwxr-xr-x 1 root root    4096 Nov 19 10:54 ..\n",
            "drwxr-xr-x 2 root root    4096 Nov 19 11:11 predict_future_sales\n",
            "drwxr-xr-x 4 root root    4096 Nov 19 11:28 catboost_info\n",
            "drwx------ 3 root root    4096 Nov 19 11:32 drive\n",
            "-rw------- 1 root root 6490008 Nov 19 11:36 lgb_xgb.csv\n",
            "drwxr-xr-x 1 root root    4096 Nov 19 12:49 .\n",
            "-rw-r--r-- 1 root root 3392566 Nov 19 12:50 sub_lgb_xg_cb.csv\n"
          ],
          "name": "stdout"
        }
      ]
    },
    {
      "cell_type": "code",
      "metadata": {
        "id": "vzyFmWV5mQE6",
        "colab_type": "code",
        "colab": {
          "base_uri": "https://localhost:8080/",
          "height": 67
        },
        "outputId": "7b278fbc-0de0-438e-a9da-434db306494b"
      },
      "source": [
        "!kaggle competitions submit -c competitive-data-science-predict-future-sales -f sub_lgb_xg_cb.csv -m \"lgb + cgb + cb + lgb calssifier\""
      ],
      "execution_count": 153,
      "outputs": [
        {
          "output_type": "stream",
          "text": [
            "Warning: Looks like you're using an outdated API Version, please consider updating (server 1.5.6 / client 1.5.4)\n",
            "100% 3.24M/3.24M [00:01<00:00, 2.48MB/s]\n",
            "Successfully submitted to Predict Future Sales"
          ],
          "name": "stdout"
        }
      ]
    },
    {
      "cell_type": "code",
      "metadata": {
        "id": "cikqzbs0mQAC",
        "colab_type": "code",
        "colab": {}
      },
      "source": [
        "df_pred[['ID','average']].rename({'average':'item_cnt_month'},axis=1).to_csv('lgb_xgb_cb_avg.csv',index=False)"
      ],
      "execution_count": 0,
      "outputs": []
    },
    {
      "cell_type": "code",
      "metadata": {
        "id": "Kgy86WzsuQvt",
        "colab_type": "code",
        "colab": {
          "base_uri": "https://localhost:8080/",
          "height": 67
        },
        "outputId": "4ed5cb80-9789-4a97-b7cf-670ded18839f"
      },
      "source": [
        "!kaggle competitions submit -c competitive-data-science-predict-future-sales -f lgb_xgb_cb_avg.csv -m \"lgb + cgb + cb average\""
      ],
      "execution_count": 158,
      "outputs": [
        {
          "output_type": "stream",
          "text": [
            "Warning: Looks like you're using an outdated API Version, please consider updating (server 1.5.6 / client 1.5.4)\n",
            "100% 5.31M/5.31M [00:01<00:00, 2.98MB/s]\n",
            "Successfully submitted to Predict Future Sales"
          ],
          "name": "stdout"
        }
      ]
    },
    {
      "cell_type": "code",
      "metadata": {
        "id": "BI4c-opQuQgT",
        "colab_type": "code",
        "colab": {
          "base_uri": "https://localhost:8080/",
          "height": 202
        },
        "outputId": "1d49431d-bf94-46a4-a676-58d13cb3a0c4"
      },
      "source": [
        "!ls -ltra "
      ],
      "execution_count": 159,
      "outputs": [
        {
          "output_type": "stream",
          "text": [
            "total 15120\n",
            "drwxr-xr-x 1 root root    4096 Nov 15 16:31 sample_data\n",
            "drwxr-xr-x 1 root root    4096 Nov 15 16:31 .config\n",
            "drwxr-xr-x 1 root root    4096 Nov 19 10:54 ..\n",
            "drwxr-xr-x 2 root root    4096 Nov 19 11:11 predict_future_sales\n",
            "drwxr-xr-x 4 root root    4096 Nov 19 11:28 catboost_info\n",
            "drwx------ 3 root root    4096 Nov 19 11:32 drive\n",
            "-rw------- 1 root root 6490008 Nov 19 11:36 lgb_xgb.csv\n",
            "-rw-r--r-- 1 root root 3392566 Nov 19 12:50 sub_lgb_xg_cb.csv\n",
            "drwxr-xr-x 1 root root    4096 Nov 19 12:56 .\n",
            "-rw-r--r-- 1 root root 5564571 Nov 19 12:56 lgb_xgb_cb_avg.csv\n"
          ],
          "name": "stdout"
        }
      ]
    },
    {
      "cell_type": "code",
      "metadata": {
        "id": "V9DIo1FpRqGt",
        "colab_type": "code",
        "colab": {
          "base_uri": "https://localhost:8080/",
          "height": 50
        },
        "outputId": "39818bd3-f397-414c-c7f7-c7f427db3414"
      },
      "source": [
        "print('The ensemble plus the probability classifier is yielding a piblic score of 0.93845')\n",
        "print('The ensemble alone is resulting a public score of 0.94849')"
      ],
      "execution_count": 162,
      "outputs": [
        {
          "output_type": "stream",
          "text": [
            "The ensemble plus the probability classifier is yielding a piblic score of 0.93845\n",
            "The ensemble alone is resulting a public score of 0.94849\n"
          ],
          "name": "stdout"
        }
      ]
    },
    {
      "cell_type": "code",
      "metadata": {
        "id": "f-x02HgjTGll",
        "colab_type": "code",
        "colab": {}
      },
      "source": [
        ""
      ],
      "execution_count": 0,
      "outputs": []
    }
  ]
}